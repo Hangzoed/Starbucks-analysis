{
 "cells": [
  {
   "cell_type": "markdown",
   "metadata": {},
   "source": [
    "# Starbucks Capstone Challenge\n",
    "\n",
    "### Introduction\n",
    "\n",
    "This data set contains simulated data that mimics customer behavior on the Starbucks rewards mobile app. Once every few days, Starbucks sends out an offer to users of the mobile app. An offer can be merely an advertisement for a drink or an actual offer such as a discount or BOGO (buy one get one free). Some users might not receive any offer during certain weeks. \n",
    "\n",
    "Not all users receive the same offer, and that is the challenge to solve with this data set.\n",
    "\n",
    "Your task is to combine transaction, demographic and offer data to determine which demographic groups respond best to which offer type. This data set is a simplified version of the real Starbucks app because the underlying simulator only has one product whereas Starbucks actually sells dozens of products.\n",
    "\n",
    "Every offer has a validity period before the offer expires. As an example, a BOGO offer might be valid for only 5 days. You'll see in the data set that informational offers have a validity period even though these ads are merely providing information about a product; for example, if an informational offer has 7 days of validity, you can assume the customer is feeling the influence of the offer for 7 days after receiving the advertisement.\n",
    "\n",
    "You'll be given transactional data showing user purchases made on the app including the timestamp of purchase and the amount of money spent on a purchase. This transactional data also has a record for each offer that a user receives as well as a record for when a user actually views the offer. There are also records for when a user completes an offer. \n",
    "\n",
    "Keep in mind as well that someone using the app might make a purchase through the app without having received an offer or seen an offer.\n",
    "\n",
    "### Example\n",
    "\n",
    "To give an example, a user could receive a discount offer buy 10 dollars get 2 off on Monday. The offer is valid for 10 days from receipt. If the customer accumulates at least 10 dollars in purchases during the validity period, the customer completes the offer.\n",
    "\n",
    "However, there are a few things to watch out for in this data set. Customers do not opt into the offers that they receive; in other words, a user can receive an offer, never actually view the offer, and still complete the offer. For example, a user might receive the \"buy 10 dollars get 2 dollars off offer\", but the user never opens the offer during the 10 day validity period. The customer spends 15 dollars during those ten days. There will be an offer completion record in the data set; however, the customer was not influenced by the offer because the customer never viewed the offer.\n",
    "\n",
    "### Cleaning\n",
    "\n",
    "This makes data cleaning especially important and tricky.\n",
    "\n",
    "You'll also want to take into account that some demographic groups will make purchases even if they don't receive an offer. From a business perspective, if a customer is going to make a 10 dollar purchase without an offer anyway, you wouldn't want to send a buy 10 dollars get 2 dollars off offer. You'll want to try to assess what a certain demographic group will buy when not receiving any offers.\n",
    "\n",
    "### Final Advice\n",
    "\n",
    "Because this is a capstone project, you are free to analyze the data any way you see fit. For example, you could build a machine learning model that predicts how much someone will spend based on demographics and offer type. Or you could build a model that predicts whether or not someone will respond to an offer. Or, you don't need to build a machine learning model at all. You could develop a set of heuristics that determine what offer you should send to each customer (i.e., 75 percent of women customers who were 35 years old responded to offer A vs 40 percent from the same demographic to offer B, so send offer A)."
   ]
  },
  {
   "cell_type": "markdown",
   "metadata": {},
   "source": [
    "# Data Sets\n",
    "\n",
    "The data is contained in three files:\n",
    "\n",
    "* portfolio.json - containing offer ids and meta data about each offer (duration, type, etc.)\n",
    "* profile.json - demographic data for each customer\n",
    "* transcript.json - records for transactions, offers received, offers viewed, and offers completed\n",
    "\n",
    "Here is the schema and explanation of each variable in the files:\n",
    "\n",
    "**portfolio.json**\n",
    "* id (string) - offer id\n",
    "* offer_type (string) - type of offer ie BOGO, discount, informational\n",
    "* difficulty (int) - minimum required spend to complete an offer\n",
    "* reward (int) - reward given for completing an offer\n",
    "* duration (int) - time for offer to be open, in days\n",
    "* channels (list of strings)\n",
    "\n",
    "**profile.json**\n",
    "* age (int) - age of the customer \n",
    "* became_member_on (int) - date when customer created an app account\n",
    "* gender (str) - gender of the customer (note some entries contain 'O' for other rather than M or F)\n",
    "* id (str) - customer id\n",
    "* income (float) - customer's income\n",
    "\n",
    "**transcript.json**\n",
    "* event (str) - record description (ie transaction, offer received, offer viewed, etc.)\n",
    "* person (str) - customer id\n",
    "* time (int) - time in hours since start of test. The data begins at time t=0\n",
    "* value - (dict of strings) - either an offer id or transaction amount depending on the record\n",
    "\n",
    "**Note:** If you are using the workspace, you will need to go to the terminal and run the command `conda update pandas` before reading in the files. This is because the version of pandas in the workspace cannot read in the transcript.json file correctly, but the newest version of pandas can. You can access the termnal from the orange icon in the top left of this notebook.  \n",
    "\n",
    "You can see how to access the terminal and how the install works using the two images below.  First you need to access the terminal:\n",
    "\n",
    "<img src=\"pic1.png\"/>\n",
    "\n",
    "Then you will want to run the above command:\n",
    "\n",
    "<img src=\"pic2.png\"/>\n",
    "\n",
    "Finally, when you enter back into the notebook (use the jupyter icon again), you should be able to run the below cell without any errors."
   ]
  },
  {
   "cell_type": "code",
   "execution_count": 1,
   "metadata": {},
   "outputs": [],
   "source": [
    "import pandas as pd\n",
    "import numpy as np\n",
    "import math\n",
    "import json\n",
    "import matplotlib.pyplot as plt\n",
    "import seaborn as sns\n",
    "from sklearn.preprocessing import MinMaxScaler\n",
    "\n",
    "\n",
    "%matplotlib inline\n",
    "\n",
    "# read in the json files\n",
    "portfolio = pd.read_json('data/portfolio.json', orient='records', lines=True)\n",
    "profile = pd.read_json('data/profile.json', orient='records', lines=True)\n",
    "transcript = pd.read_json('data/transcript.json', orient='records', lines=True)"
   ]
  },
  {
   "cell_type": "markdown",
   "metadata": {},
   "source": [
    "The goal of this analysis to understand Starbucks app users behaviour in regards to Age, Gender, and income group. It will follow these steps:\n",
    "###### 1. Exploratoray look \n",
    "###### 2. Data Preprocessing\n",
    "###### 3. Data analysis\n",
    "###### 4. Modelling.\n",
    "###### 5. Evaluation."
   ]
  },
  {
   "cell_type": "markdown",
   "metadata": {},
   "source": [
    "## 1. Expolatoray Look"
   ]
  },
  {
   "cell_type": "markdown",
   "metadata": {},
   "source": [
    "### a. Portfolio"
   ]
  },
  {
   "cell_type": "code",
   "execution_count": 2,
   "metadata": {},
   "outputs": [
    {
     "data": {
      "text/html": [
       "<div>\n",
       "<style scoped>\n",
       "    .dataframe tbody tr th:only-of-type {\n",
       "        vertical-align: middle;\n",
       "    }\n",
       "\n",
       "    .dataframe tbody tr th {\n",
       "        vertical-align: top;\n",
       "    }\n",
       "\n",
       "    .dataframe thead th {\n",
       "        text-align: right;\n",
       "    }\n",
       "</style>\n",
       "<table border=\"1\" class=\"dataframe\">\n",
       "  <thead>\n",
       "    <tr style=\"text-align: right;\">\n",
       "      <th></th>\n",
       "      <th>channels</th>\n",
       "      <th>difficulty</th>\n",
       "      <th>duration</th>\n",
       "      <th>id</th>\n",
       "      <th>offer_type</th>\n",
       "      <th>reward</th>\n",
       "    </tr>\n",
       "  </thead>\n",
       "  <tbody>\n",
       "    <tr>\n",
       "      <th>0</th>\n",
       "      <td>[email, mobile, social]</td>\n",
       "      <td>10</td>\n",
       "      <td>7</td>\n",
       "      <td>ae264e3637204a6fb9bb56bc8210ddfd</td>\n",
       "      <td>bogo</td>\n",
       "      <td>10</td>\n",
       "    </tr>\n",
       "    <tr>\n",
       "      <th>1</th>\n",
       "      <td>[web, email, mobile, social]</td>\n",
       "      <td>10</td>\n",
       "      <td>5</td>\n",
       "      <td>4d5c57ea9a6940dd891ad53e9dbe8da0</td>\n",
       "      <td>bogo</td>\n",
       "      <td>10</td>\n",
       "    </tr>\n",
       "    <tr>\n",
       "      <th>2</th>\n",
       "      <td>[web, email, mobile]</td>\n",
       "      <td>0</td>\n",
       "      <td>4</td>\n",
       "      <td>3f207df678b143eea3cee63160fa8bed</td>\n",
       "      <td>informational</td>\n",
       "      <td>0</td>\n",
       "    </tr>\n",
       "    <tr>\n",
       "      <th>3</th>\n",
       "      <td>[web, email, mobile]</td>\n",
       "      <td>5</td>\n",
       "      <td>7</td>\n",
       "      <td>9b98b8c7a33c4b65b9aebfe6a799e6d9</td>\n",
       "      <td>bogo</td>\n",
       "      <td>5</td>\n",
       "    </tr>\n",
       "    <tr>\n",
       "      <th>4</th>\n",
       "      <td>[web, email]</td>\n",
       "      <td>20</td>\n",
       "      <td>10</td>\n",
       "      <td>0b1e1539f2cc45b7b9fa7c272da2e1d7</td>\n",
       "      <td>discount</td>\n",
       "      <td>5</td>\n",
       "    </tr>\n",
       "    <tr>\n",
       "      <th>5</th>\n",
       "      <td>[web, email, mobile, social]</td>\n",
       "      <td>7</td>\n",
       "      <td>7</td>\n",
       "      <td>2298d6c36e964ae4a3e7e9706d1fb8c2</td>\n",
       "      <td>discount</td>\n",
       "      <td>3</td>\n",
       "    </tr>\n",
       "    <tr>\n",
       "      <th>6</th>\n",
       "      <td>[web, email, mobile, social]</td>\n",
       "      <td>10</td>\n",
       "      <td>10</td>\n",
       "      <td>fafdcd668e3743c1bb461111dcafc2a4</td>\n",
       "      <td>discount</td>\n",
       "      <td>2</td>\n",
       "    </tr>\n",
       "    <tr>\n",
       "      <th>7</th>\n",
       "      <td>[email, mobile, social]</td>\n",
       "      <td>0</td>\n",
       "      <td>3</td>\n",
       "      <td>5a8bc65990b245e5a138643cd4eb9837</td>\n",
       "      <td>informational</td>\n",
       "      <td>0</td>\n",
       "    </tr>\n",
       "    <tr>\n",
       "      <th>8</th>\n",
       "      <td>[web, email, mobile, social]</td>\n",
       "      <td>5</td>\n",
       "      <td>5</td>\n",
       "      <td>f19421c1d4aa40978ebb69ca19b0e20d</td>\n",
       "      <td>bogo</td>\n",
       "      <td>5</td>\n",
       "    </tr>\n",
       "    <tr>\n",
       "      <th>9</th>\n",
       "      <td>[web, email, mobile]</td>\n",
       "      <td>10</td>\n",
       "      <td>7</td>\n",
       "      <td>2906b810c7d4411798c6938adc9daaa5</td>\n",
       "      <td>discount</td>\n",
       "      <td>2</td>\n",
       "    </tr>\n",
       "  </tbody>\n",
       "</table>\n",
       "</div>"
      ],
      "text/plain": [
       "                       channels  difficulty  duration  \\\n",
       "0       [email, mobile, social]          10         7   \n",
       "1  [web, email, mobile, social]          10         5   \n",
       "2          [web, email, mobile]           0         4   \n",
       "3          [web, email, mobile]           5         7   \n",
       "4                  [web, email]          20        10   \n",
       "5  [web, email, mobile, social]           7         7   \n",
       "6  [web, email, mobile, social]          10        10   \n",
       "7       [email, mobile, social]           0         3   \n",
       "8  [web, email, mobile, social]           5         5   \n",
       "9          [web, email, mobile]          10         7   \n",
       "\n",
       "                                 id     offer_type  reward  \n",
       "0  ae264e3637204a6fb9bb56bc8210ddfd           bogo      10  \n",
       "1  4d5c57ea9a6940dd891ad53e9dbe8da0           bogo      10  \n",
       "2  3f207df678b143eea3cee63160fa8bed  informational       0  \n",
       "3  9b98b8c7a33c4b65b9aebfe6a799e6d9           bogo       5  \n",
       "4  0b1e1539f2cc45b7b9fa7c272da2e1d7       discount       5  \n",
       "5  2298d6c36e964ae4a3e7e9706d1fb8c2       discount       3  \n",
       "6  fafdcd668e3743c1bb461111dcafc2a4       discount       2  \n",
       "7  5a8bc65990b245e5a138643cd4eb9837  informational       0  \n",
       "8  f19421c1d4aa40978ebb69ca19b0e20d           bogo       5  \n",
       "9  2906b810c7d4411798c6938adc9daaa5       discount       2  "
      ]
     },
     "execution_count": 2,
     "metadata": {},
     "output_type": "execute_result"
    }
   ],
   "source": [
    "# What does the data frame look like\n",
    "portfolio"
   ]
  },
  {
   "cell_type": "code",
   "execution_count": 3,
   "metadata": {},
   "outputs": [
    {
     "data": {
      "text/plain": [
       "array(['bogo', 'informational', 'discount'], dtype=object)"
      ]
     },
     "execution_count": 3,
     "metadata": {},
     "output_type": "execute_result"
    }
   ],
   "source": [
    "# What types of offers\n",
    "portfolio.offer_type.unique()"
   ]
  },
  {
   "cell_type": "code",
   "execution_count": 4,
   "metadata": {},
   "outputs": [],
   "source": [
    "def bar_plot(df, column, title):\n",
    "    df.groupby(column).size().plot(kind = 'barh',title = title,color = '#761580')"
   ]
  },
  {
   "cell_type": "code",
   "execution_count": 5,
   "metadata": {},
   "outputs": [
    {
     "data": {
      "image/png": "[encoded data removed]",
      "text/plain": [
       "<matplotlib.figure.Figure at 0x7f9524d1feb8>"
      ]
     },
     "metadata": {
      "needs_background": "light"
     },
     "output_type": "display_data"
    }
   ],
   "source": [
    "bar_plot(portfolio, 'offer_type','Types of offers')"
   ]
  },
  {
   "cell_type": "markdown",
   "metadata": {},
   "source": [
    "Seems that there are Bogos and discount are the more common type"
   ]
  },
  {
   "cell_type": "markdown",
   "metadata": {},
   "source": [
    "### b. profile"
   ]
  },
  {
   "cell_type": "code",
   "execution_count": 6,
   "metadata": {},
   "outputs": [
    {
     "data": {
      "text/html": [
       "<div>\n",
       "<style scoped>\n",
       "    .dataframe tbody tr th:only-of-type {\n",
       "        vertical-align: middle;\n",
       "    }\n",
       "\n",
       "    .dataframe tbody tr th {\n",
       "        vertical-align: top;\n",
       "    }\n",
       "\n",
       "    .dataframe thead th {\n",
       "        text-align: right;\n",
       "    }\n",
       "</style>\n",
       "<table border=\"1\" class=\"dataframe\">\n",
       "  <thead>\n",
       "    <tr style=\"text-align: right;\">\n",
       "      <th></th>\n",
       "      <th>age</th>\n",
       "      <th>became_member_on</th>\n",
       "      <th>gender</th>\n",
       "      <th>id</th>\n",
       "      <th>income</th>\n",
       "    </tr>\n",
       "  </thead>\n",
       "  <tbody>\n",
       "    <tr>\n",
       "      <th>0</th>\n",
       "      <td>118</td>\n",
       "      <td>20170212</td>\n",
       "      <td>None</td>\n",
       "      <td>68be06ca386d4c31939f3a4f0e3dd783</td>\n",
       "      <td>NaN</td>\n",
       "    </tr>\n",
       "    <tr>\n",
       "      <th>1</th>\n",
       "      <td>55</td>\n",
       "      <td>20170715</td>\n",
       "      <td>F</td>\n",
       "      <td>0610b486422d4921ae7d2bf64640c50b</td>\n",
       "      <td>112000.0</td>\n",
       "    </tr>\n",
       "    <tr>\n",
       "      <th>2</th>\n",
       "      <td>118</td>\n",
       "      <td>20180712</td>\n",
       "      <td>None</td>\n",
       "      <td>38fe809add3b4fcf9315a9694bb96ff5</td>\n",
       "      <td>NaN</td>\n",
       "    </tr>\n",
       "    <tr>\n",
       "      <th>3</th>\n",
       "      <td>75</td>\n",
       "      <td>20170509</td>\n",
       "      <td>F</td>\n",
       "      <td>78afa995795e4d85b5d9ceeca43f5fef</td>\n",
       "      <td>100000.0</td>\n",
       "    </tr>\n",
       "    <tr>\n",
       "      <th>4</th>\n",
       "      <td>118</td>\n",
       "      <td>20170804</td>\n",
       "      <td>None</td>\n",
       "      <td>a03223e636434f42ac4c3df47e8bac43</td>\n",
       "      <td>NaN</td>\n",
       "    </tr>\n",
       "  </tbody>\n",
       "</table>\n",
       "</div>"
      ],
      "text/plain": [
       "   age  became_member_on gender                                id    income\n",
       "0  118          20170212   None  68be06ca386d4c31939f3a4f0e3dd783       NaN\n",
       "1   55          20170715      F  0610b486422d4921ae7d2bf64640c50b  112000.0\n",
       "2  118          20180712   None  38fe809add3b4fcf9315a9694bb96ff5       NaN\n",
       "3   75          20170509      F  78afa995795e4d85b5d9ceeca43f5fef  100000.0\n",
       "4  118          20170804   None  a03223e636434f42ac4c3df47e8bac43       NaN"
      ]
     },
     "execution_count": 6,
     "metadata": {},
     "output_type": "execute_result"
    }
   ],
   "source": [
    "profile.head()"
   ]
  },
  {
   "cell_type": "markdown",
   "metadata": {},
   "source": [
    "It seems that 118 usually means that the customers didn't fill the required columns or no information \n",
    "\n"
   ]
  },
  {
   "cell_type": "markdown",
   "metadata": {},
   "source": [
    "to confirm"
   ]
  },
  {
   "cell_type": "markdown",
   "metadata": {},
   "source": [
    "###### Age"
   ]
  },
  {
   "cell_type": "code",
   "execution_count": 7,
   "metadata": {},
   "outputs": [
    {
     "data": {
      "text/plain": [
       "(2175, 5)"
      ]
     },
     "execution_count": 7,
     "metadata": {},
     "output_type": "execute_result"
    }
   ],
   "source": [
    "profile[profile['age'] == 118].shape"
   ]
  },
  {
   "cell_type": "code",
   "execution_count": 8,
   "metadata": {},
   "outputs": [
    {
     "data": {
      "text/plain": [
       "array([ nan])"
      ]
     },
     "execution_count": 8,
     "metadata": {},
     "output_type": "execute_result"
    }
   ],
   "source": [
    "profile[profile['age'] == 118].income.unique()"
   ]
  },
  {
   "cell_type": "code",
   "execution_count": 9,
   "metadata": {},
   "outputs": [
    {
     "data": {
      "text/plain": [
       "array([None], dtype=object)"
      ]
     },
     "execution_count": 9,
     "metadata": {},
     "output_type": "execute_result"
    }
   ],
   "source": [
    "profile[profile['age'] == 118].gender.unique()"
   ]
  },
  {
   "cell_type": "markdown",
   "metadata": {},
   "source": [
    "I will remove their values from the analysis for two reasons:\n",
    "1. Small number \n",
    "2. Don't have the data that I am trying to analyze"
   ]
  },
  {
   "cell_type": "code",
   "execution_count": 10,
   "metadata": {},
   "outputs": [
    {
     "data": {
      "text/html": [
       "<div>\n",
       "<style scoped>\n",
       "    .dataframe tbody tr th:only-of-type {\n",
       "        vertical-align: middle;\n",
       "    }\n",
       "\n",
       "    .dataframe tbody tr th {\n",
       "        vertical-align: top;\n",
       "    }\n",
       "\n",
       "    .dataframe thead th {\n",
       "        text-align: right;\n",
       "    }\n",
       "</style>\n",
       "<table border=\"1\" class=\"dataframe\">\n",
       "  <thead>\n",
       "    <tr style=\"text-align: right;\">\n",
       "      <th></th>\n",
       "      <th>age</th>\n",
       "      <th>became_member_on</th>\n",
       "      <th>gender</th>\n",
       "      <th>id</th>\n",
       "      <th>income</th>\n",
       "    </tr>\n",
       "  </thead>\n",
       "  <tbody>\n",
       "    <tr>\n",
       "      <th>1</th>\n",
       "      <td>55</td>\n",
       "      <td>20170715</td>\n",
       "      <td>F</td>\n",
       "      <td>0610b486422d4921ae7d2bf64640c50b</td>\n",
       "      <td>112000.0</td>\n",
       "    </tr>\n",
       "    <tr>\n",
       "      <th>3</th>\n",
       "      <td>75</td>\n",
       "      <td>20170509</td>\n",
       "      <td>F</td>\n",
       "      <td>78afa995795e4d85b5d9ceeca43f5fef</td>\n",
       "      <td>100000.0</td>\n",
       "    </tr>\n",
       "    <tr>\n",
       "      <th>5</th>\n",
       "      <td>68</td>\n",
       "      <td>20180426</td>\n",
       "      <td>M</td>\n",
       "      <td>e2127556f4f64592b11af22de27a7932</td>\n",
       "      <td>70000.0</td>\n",
       "    </tr>\n",
       "    <tr>\n",
       "      <th>8</th>\n",
       "      <td>65</td>\n",
       "      <td>20180209</td>\n",
       "      <td>M</td>\n",
       "      <td>389bc3fa690240e798340f5a15918d5c</td>\n",
       "      <td>53000.0</td>\n",
       "    </tr>\n",
       "    <tr>\n",
       "      <th>12</th>\n",
       "      <td>58</td>\n",
       "      <td>20171111</td>\n",
       "      <td>M</td>\n",
       "      <td>2eeac8d8feae4a8cad5a6af0499a211d</td>\n",
       "      <td>51000.0</td>\n",
       "    </tr>\n",
       "  </tbody>\n",
       "</table>\n",
       "</div>"
      ],
      "text/plain": [
       "    age  became_member_on gender                                id    income\n",
       "1    55          20170715      F  0610b486422d4921ae7d2bf64640c50b  112000.0\n",
       "3    75          20170509      F  78afa995795e4d85b5d9ceeca43f5fef  100000.0\n",
       "5    68          20180426      M  e2127556f4f64592b11af22de27a7932   70000.0\n",
       "8    65          20180209      M  389bc3fa690240e798340f5a15918d5c   53000.0\n",
       "12   58          20171111      M  2eeac8d8feae4a8cad5a6af0499a211d   51000.0"
      ]
     },
     "execution_count": 10,
     "metadata": {},
     "output_type": "execute_result"
    }
   ],
   "source": [
    "cleaned_profile = profile[profile['age'] != 118]\n",
    "cleaned_profile.head()"
   ]
  },
  {
   "cell_type": "code",
   "execution_count": 11,
   "metadata": {},
   "outputs": [
    {
     "data": {
      "text/html": [
       "<div>\n",
       "<style scoped>\n",
       "    .dataframe tbody tr th:only-of-type {\n",
       "        vertical-align: middle;\n",
       "    }\n",
       "\n",
       "    .dataframe tbody tr th {\n",
       "        vertical-align: top;\n",
       "    }\n",
       "\n",
       "    .dataframe thead th {\n",
       "        text-align: right;\n",
       "    }\n",
       "</style>\n",
       "<table border=\"1\" class=\"dataframe\">\n",
       "  <thead>\n",
       "    <tr style=\"text-align: right;\">\n",
       "      <th></th>\n",
       "      <th>age</th>\n",
       "      <th>became_member_on</th>\n",
       "      <th>income</th>\n",
       "    </tr>\n",
       "  </thead>\n",
       "  <tbody>\n",
       "    <tr>\n",
       "      <th>count</th>\n",
       "      <td>14825.000000</td>\n",
       "      <td>1.482500e+04</td>\n",
       "      <td>14825.000000</td>\n",
       "    </tr>\n",
       "    <tr>\n",
       "      <th>mean</th>\n",
       "      <td>54.393524</td>\n",
       "      <td>2.016689e+07</td>\n",
       "      <td>65404.991568</td>\n",
       "    </tr>\n",
       "    <tr>\n",
       "      <th>std</th>\n",
       "      <td>17.383705</td>\n",
       "      <td>1.188565e+04</td>\n",
       "      <td>21598.299410</td>\n",
       "    </tr>\n",
       "    <tr>\n",
       "      <th>min</th>\n",
       "      <td>18.000000</td>\n",
       "      <td>2.013073e+07</td>\n",
       "      <td>30000.000000</td>\n",
       "    </tr>\n",
       "    <tr>\n",
       "      <th>25%</th>\n",
       "      <td>42.000000</td>\n",
       "      <td>2.016052e+07</td>\n",
       "      <td>49000.000000</td>\n",
       "    </tr>\n",
       "    <tr>\n",
       "      <th>50%</th>\n",
       "      <td>55.000000</td>\n",
       "      <td>2.017080e+07</td>\n",
       "      <td>64000.000000</td>\n",
       "    </tr>\n",
       "    <tr>\n",
       "      <th>75%</th>\n",
       "      <td>66.000000</td>\n",
       "      <td>2.017123e+07</td>\n",
       "      <td>80000.000000</td>\n",
       "    </tr>\n",
       "    <tr>\n",
       "      <th>max</th>\n",
       "      <td>101.000000</td>\n",
       "      <td>2.018073e+07</td>\n",
       "      <td>120000.000000</td>\n",
       "    </tr>\n",
       "  </tbody>\n",
       "</table>\n",
       "</div>"
      ],
      "text/plain": [
       "                age  became_member_on         income\n",
       "count  14825.000000      1.482500e+04   14825.000000\n",
       "mean      54.393524      2.016689e+07   65404.991568\n",
       "std       17.383705      1.188565e+04   21598.299410\n",
       "min       18.000000      2.013073e+07   30000.000000\n",
       "25%       42.000000      2.016052e+07   49000.000000\n",
       "50%       55.000000      2.017080e+07   64000.000000\n",
       "75%       66.000000      2.017123e+07   80000.000000\n",
       "max      101.000000      2.018073e+07  120000.000000"
      ]
     },
     "execution_count": 11,
     "metadata": {},
     "output_type": "execute_result"
    }
   ],
   "source": [
    "# Check Age \n",
    "cleaned_profile.describe()"
   ]
  },
  {
   "cell_type": "code",
   "execution_count": 12,
   "metadata": {},
   "outputs": [
    {
     "data": {
      "text/plain": [
       "<matplotlib.axes._subplots.AxesSubplot at 0x7f94fadbb4a8>"
      ]
     },
     "execution_count": 12,
     "metadata": {},
     "output_type": "execute_result"
    },
    {
     "data": {
      "image/png": "[encoded data removed]",
      "text/plain": [
       "<matplotlib.figure.Figure at 0x7f94fadb2550>"
      ]
     },
     "metadata": {
      "needs_background": "light"
     },
     "output_type": "display_data"
    }
   ],
   "source": [
    "\n",
    "sns.kdeplot(cleaned_profile.age, label='age', shade=True)\n"
   ]
  },
  {
   "cell_type": "markdown",
   "metadata": {},
   "source": [
    "###### income"
   ]
  },
  {
   "cell_type": "code",
   "execution_count": 13,
   "metadata": {},
   "outputs": [
    {
     "data": {
      "text/plain": [
       "<matplotlib.axes._subplots.AxesSubplot at 0x7f94fadbbf60>"
      ]
     },
     "execution_count": 13,
     "metadata": {},
     "output_type": "execute_result"
    },
    {
     "data": {
      "image/png": "[encoded data removed]",
      "text/plain": [
       "<matplotlib.figure.Figure at 0x7f94fadcd978>"
      ]
     },
     "metadata": {
      "needs_background": "light"
     },
     "output_type": "display_data"
    }
   ],
   "source": [
    "sns.kdeplot(cleaned_profile.income, label='income', shade=True)\n"
   ]
  },
  {
   "cell_type": "markdown",
   "metadata": {},
   "source": [
    "###### gender"
   ]
  },
  {
   "cell_type": "code",
   "execution_count": 14,
   "metadata": {},
   "outputs": [
    {
     "data": {
      "text/plain": [
       "M    8484\n",
       "F    6129\n",
       "O     212\n",
       "Name: gender, dtype: int64"
      ]
     },
     "execution_count": 14,
     "metadata": {},
     "output_type": "execute_result"
    }
   ],
   "source": [
    "cleaned_profile.gender.value_counts()"
   ]
  },
  {
   "cell_type": "code",
   "execution_count": 15,
   "metadata": {},
   "outputs": [
    {
     "data": {
      "image/png": "[encoded data removed]",
      "text/plain": [
       "<matplotlib.figure.Figure at 0x7f94fadb2710>"
      ]
     },
     "metadata": {},
     "output_type": "display_data"
    }
   ],
   "source": [
    "gendervalues = cleaned_profile.gender.value_counts()\n",
    "\n",
    "x=plt.pie(gendervalues,labels =['Male','Female','other'], colors = ['purple','pink','lavender'])\n"
   ]
  },
  {
   "cell_type": "markdown",
   "metadata": {},
   "source": [
    "### c.transcript"
   ]
  },
  {
   "cell_type": "code",
   "execution_count": 16,
   "metadata": {},
   "outputs": [
    {
     "data": {
      "text/html": [
       "<div>\n",
       "<style scoped>\n",
       "    .dataframe tbody tr th:only-of-type {\n",
       "        vertical-align: middle;\n",
       "    }\n",
       "\n",
       "    .dataframe tbody tr th {\n",
       "        vertical-align: top;\n",
       "    }\n",
       "\n",
       "    .dataframe thead th {\n",
       "        text-align: right;\n",
       "    }\n",
       "</style>\n",
       "<table border=\"1\" class=\"dataframe\">\n",
       "  <thead>\n",
       "    <tr style=\"text-align: right;\">\n",
       "      <th></th>\n",
       "      <th>event</th>\n",
       "      <th>person</th>\n",
       "      <th>time</th>\n",
       "      <th>value</th>\n",
       "    </tr>\n",
       "  </thead>\n",
       "  <tbody>\n",
       "    <tr>\n",
       "      <th>0</th>\n",
       "      <td>offer received</td>\n",
       "      <td>78afa995795e4d85b5d9ceeca43f5fef</td>\n",
       "      <td>0</td>\n",
       "      <td>{'offer id': '9b98b8c7a33c4b65b9aebfe6a799e6d9'}</td>\n",
       "    </tr>\n",
       "    <tr>\n",
       "      <th>1</th>\n",
       "      <td>offer received</td>\n",
       "      <td>a03223e636434f42ac4c3df47e8bac43</td>\n",
       "      <td>0</td>\n",
       "      <td>{'offer id': '0b1e1539f2cc45b7b9fa7c272da2e1d7'}</td>\n",
       "    </tr>\n",
       "    <tr>\n",
       "      <th>2</th>\n",
       "      <td>offer received</td>\n",
       "      <td>e2127556f4f64592b11af22de27a7932</td>\n",
       "      <td>0</td>\n",
       "      <td>{'offer id': '2906b810c7d4411798c6938adc9daaa5'}</td>\n",
       "    </tr>\n",
       "    <tr>\n",
       "      <th>3</th>\n",
       "      <td>offer received</td>\n",
       "      <td>8ec6ce2a7e7949b1bf142def7d0e0586</td>\n",
       "      <td>0</td>\n",
       "      <td>{'offer id': 'fafdcd668e3743c1bb461111dcafc2a4'}</td>\n",
       "    </tr>\n",
       "    <tr>\n",
       "      <th>4</th>\n",
       "      <td>offer received</td>\n",
       "      <td>68617ca6246f4fbc85e91a2a49552598</td>\n",
       "      <td>0</td>\n",
       "      <td>{'offer id': '4d5c57ea9a6940dd891ad53e9dbe8da0'}</td>\n",
       "    </tr>\n",
       "  </tbody>\n",
       "</table>\n",
       "</div>"
      ],
      "text/plain": [
       "            event                            person  time  \\\n",
       "0  offer received  78afa995795e4d85b5d9ceeca43f5fef     0   \n",
       "1  offer received  a03223e636434f42ac4c3df47e8bac43     0   \n",
       "2  offer received  e2127556f4f64592b11af22de27a7932     0   \n",
       "3  offer received  8ec6ce2a7e7949b1bf142def7d0e0586     0   \n",
       "4  offer received  68617ca6246f4fbc85e91a2a49552598     0   \n",
       "\n",
       "                                              value  \n",
       "0  {'offer id': '9b98b8c7a33c4b65b9aebfe6a799e6d9'}  \n",
       "1  {'offer id': '0b1e1539f2cc45b7b9fa7c272da2e1d7'}  \n",
       "2  {'offer id': '2906b810c7d4411798c6938adc9daaa5'}  \n",
       "3  {'offer id': 'fafdcd668e3743c1bb461111dcafc2a4'}  \n",
       "4  {'offer id': '4d5c57ea9a6940dd891ad53e9dbe8da0'}  "
      ]
     },
     "execution_count": 16,
     "metadata": {},
     "output_type": "execute_result"
    }
   ],
   "source": [
    "transcript.head()"
   ]
  },
  {
   "cell_type": "code",
   "execution_count": 17,
   "metadata": {},
   "outputs": [
    {
     "data": {
      "text/plain": [
       "array(['offer received', 'offer viewed', 'transaction', 'offer completed'], dtype=object)"
      ]
     },
     "execution_count": 17,
     "metadata": {},
     "output_type": "execute_result"
    }
   ],
   "source": [
    "transcript.event.unique()"
   ]
  },
  {
   "cell_type": "code",
   "execution_count": 18,
   "metadata": {},
   "outputs": [
    {
     "data": {
      "text/html": [
       "<div>\n",
       "<style scoped>\n",
       "    .dataframe tbody tr th:only-of-type {\n",
       "        vertical-align: middle;\n",
       "    }\n",
       "\n",
       "    .dataframe tbody tr th {\n",
       "        vertical-align: top;\n",
       "    }\n",
       "\n",
       "    .dataframe thead th {\n",
       "        text-align: right;\n",
       "    }\n",
       "</style>\n",
       "<table border=\"1\" class=\"dataframe\">\n",
       "  <thead>\n",
       "    <tr style=\"text-align: right;\">\n",
       "      <th></th>\n",
       "      <th>event</th>\n",
       "      <th>person</th>\n",
       "      <th>time</th>\n",
       "      <th>value</th>\n",
       "    </tr>\n",
       "  </thead>\n",
       "  <tbody>\n",
       "    <tr>\n",
       "      <th>0</th>\n",
       "      <td>offer received</td>\n",
       "      <td>78afa995795e4d85b5d9ceeca43f5fef</td>\n",
       "      <td>0</td>\n",
       "      <td>{'offer id': '9b98b8c7a33c4b65b9aebfe6a799e6d9'}</td>\n",
       "    </tr>\n",
       "    <tr>\n",
       "      <th>1</th>\n",
       "      <td>offer received</td>\n",
       "      <td>a03223e636434f42ac4c3df47e8bac43</td>\n",
       "      <td>0</td>\n",
       "      <td>{'offer id': '0b1e1539f2cc45b7b9fa7c272da2e1d7'}</td>\n",
       "    </tr>\n",
       "    <tr>\n",
       "      <th>2</th>\n",
       "      <td>offer received</td>\n",
       "      <td>e2127556f4f64592b11af22de27a7932</td>\n",
       "      <td>0</td>\n",
       "      <td>{'offer id': '2906b810c7d4411798c6938adc9daaa5'}</td>\n",
       "    </tr>\n",
       "    <tr>\n",
       "      <th>3</th>\n",
       "      <td>offer received</td>\n",
       "      <td>8ec6ce2a7e7949b1bf142def7d0e0586</td>\n",
       "      <td>0</td>\n",
       "      <td>{'offer id': 'fafdcd668e3743c1bb461111dcafc2a4'}</td>\n",
       "    </tr>\n",
       "    <tr>\n",
       "      <th>4</th>\n",
       "      <td>offer received</td>\n",
       "      <td>68617ca6246f4fbc85e91a2a49552598</td>\n",
       "      <td>0</td>\n",
       "      <td>{'offer id': '4d5c57ea9a6940dd891ad53e9dbe8da0'}</td>\n",
       "    </tr>\n",
       "  </tbody>\n",
       "</table>\n",
       "</div>"
      ],
      "text/plain": [
       "            event                            person  time  \\\n",
       "0  offer received  78afa995795e4d85b5d9ceeca43f5fef     0   \n",
       "1  offer received  a03223e636434f42ac4c3df47e8bac43     0   \n",
       "2  offer received  e2127556f4f64592b11af22de27a7932     0   \n",
       "3  offer received  8ec6ce2a7e7949b1bf142def7d0e0586     0   \n",
       "4  offer received  68617ca6246f4fbc85e91a2a49552598     0   \n",
       "\n",
       "                                              value  \n",
       "0  {'offer id': '9b98b8c7a33c4b65b9aebfe6a799e6d9'}  \n",
       "1  {'offer id': '0b1e1539f2cc45b7b9fa7c272da2e1d7'}  \n",
       "2  {'offer id': '2906b810c7d4411798c6938adc9daaa5'}  \n",
       "3  {'offer id': 'fafdcd668e3743c1bb461111dcafc2a4'}  \n",
       "4  {'offer id': '4d5c57ea9a6940dd891ad53e9dbe8da0'}  "
      ]
     },
     "execution_count": 18,
     "metadata": {},
     "output_type": "execute_result"
    }
   ],
   "source": [
    "transcript[transcript['event'] == 'offer received'].head()"
   ]
  },
  {
   "cell_type": "code",
   "execution_count": 19,
   "metadata": {},
   "outputs": [
    {
     "data": {
      "text/html": [
       "<div>\n",
       "<style scoped>\n",
       "    .dataframe tbody tr th:only-of-type {\n",
       "        vertical-align: middle;\n",
       "    }\n",
       "\n",
       "    .dataframe tbody tr th {\n",
       "        vertical-align: top;\n",
       "    }\n",
       "\n",
       "    .dataframe thead th {\n",
       "        text-align: right;\n",
       "    }\n",
       "</style>\n",
       "<table border=\"1\" class=\"dataframe\">\n",
       "  <thead>\n",
       "    <tr style=\"text-align: right;\">\n",
       "      <th></th>\n",
       "      <th>event</th>\n",
       "      <th>person</th>\n",
       "      <th>time</th>\n",
       "      <th>value</th>\n",
       "    </tr>\n",
       "  </thead>\n",
       "  <tbody>\n",
       "    <tr>\n",
       "      <th>12650</th>\n",
       "      <td>offer viewed</td>\n",
       "      <td>389bc3fa690240e798340f5a15918d5c</td>\n",
       "      <td>0</td>\n",
       "      <td>{'offer id': 'f19421c1d4aa40978ebb69ca19b0e20d'}</td>\n",
       "    </tr>\n",
       "    <tr>\n",
       "      <th>12651</th>\n",
       "      <td>offer viewed</td>\n",
       "      <td>d1ede868e29245ea91818a903fec04c6</td>\n",
       "      <td>0</td>\n",
       "      <td>{'offer id': '5a8bc65990b245e5a138643cd4eb9837'}</td>\n",
       "    </tr>\n",
       "    <tr>\n",
       "      <th>12652</th>\n",
       "      <td>offer viewed</td>\n",
       "      <td>102e9454054946fda62242d2e176fdce</td>\n",
       "      <td>0</td>\n",
       "      <td>{'offer id': '4d5c57ea9a6940dd891ad53e9dbe8da0'}</td>\n",
       "    </tr>\n",
       "    <tr>\n",
       "      <th>12653</th>\n",
       "      <td>offer viewed</td>\n",
       "      <td>02c083884c7d45b39cc68e1314fec56c</td>\n",
       "      <td>0</td>\n",
       "      <td>{'offer id': 'ae264e3637204a6fb9bb56bc8210ddfd'}</td>\n",
       "    </tr>\n",
       "    <tr>\n",
       "      <th>12655</th>\n",
       "      <td>offer viewed</td>\n",
       "      <td>be8a5d1981a2458d90b255ddc7e0d174</td>\n",
       "      <td>0</td>\n",
       "      <td>{'offer id': '5a8bc65990b245e5a138643cd4eb9837'}</td>\n",
       "    </tr>\n",
       "  </tbody>\n",
       "</table>\n",
       "</div>"
      ],
      "text/plain": [
       "              event                            person  time  \\\n",
       "12650  offer viewed  389bc3fa690240e798340f5a15918d5c     0   \n",
       "12651  offer viewed  d1ede868e29245ea91818a903fec04c6     0   \n",
       "12652  offer viewed  102e9454054946fda62242d2e176fdce     0   \n",
       "12653  offer viewed  02c083884c7d45b39cc68e1314fec56c     0   \n",
       "12655  offer viewed  be8a5d1981a2458d90b255ddc7e0d174     0   \n",
       "\n",
       "                                                  value  \n",
       "12650  {'offer id': 'f19421c1d4aa40978ebb69ca19b0e20d'}  \n",
       "12651  {'offer id': '5a8bc65990b245e5a138643cd4eb9837'}  \n",
       "12652  {'offer id': '4d5c57ea9a6940dd891ad53e9dbe8da0'}  \n",
       "12653  {'offer id': 'ae264e3637204a6fb9bb56bc8210ddfd'}  \n",
       "12655  {'offer id': '5a8bc65990b245e5a138643cd4eb9837'}  "
      ]
     },
     "execution_count": 19,
     "metadata": {},
     "output_type": "execute_result"
    }
   ],
   "source": [
    "transcript[transcript['event'] == 'offer viewed'].head()"
   ]
  },
  {
   "cell_type": "code",
   "execution_count": 20,
   "metadata": {},
   "outputs": [
    {
     "data": {
      "text/html": [
       "<div>\n",
       "<style scoped>\n",
       "    .dataframe tbody tr th:only-of-type {\n",
       "        vertical-align: middle;\n",
       "    }\n",
       "\n",
       "    .dataframe tbody tr th {\n",
       "        vertical-align: top;\n",
       "    }\n",
       "\n",
       "    .dataframe thead th {\n",
       "        text-align: right;\n",
       "    }\n",
       "</style>\n",
       "<table border=\"1\" class=\"dataframe\">\n",
       "  <thead>\n",
       "    <tr style=\"text-align: right;\">\n",
       "      <th></th>\n",
       "      <th>event</th>\n",
       "      <th>person</th>\n",
       "      <th>time</th>\n",
       "      <th>value</th>\n",
       "    </tr>\n",
       "  </thead>\n",
       "  <tbody>\n",
       "    <tr>\n",
       "      <th>12654</th>\n",
       "      <td>transaction</td>\n",
       "      <td>02c083884c7d45b39cc68e1314fec56c</td>\n",
       "      <td>0</td>\n",
       "      <td>{'amount': 0.8300000000000001}</td>\n",
       "    </tr>\n",
       "    <tr>\n",
       "      <th>12657</th>\n",
       "      <td>transaction</td>\n",
       "      <td>9fa9ae8f57894cc9a3b8a9bbe0fc1b2f</td>\n",
       "      <td>0</td>\n",
       "      <td>{'amount': 34.56}</td>\n",
       "    </tr>\n",
       "    <tr>\n",
       "      <th>12659</th>\n",
       "      <td>transaction</td>\n",
       "      <td>54890f68699049c2a04d415abc25e717</td>\n",
       "      <td>0</td>\n",
       "      <td>{'amount': 13.23}</td>\n",
       "    </tr>\n",
       "    <tr>\n",
       "      <th>12670</th>\n",
       "      <td>transaction</td>\n",
       "      <td>b2f1cd155b864803ad8334cdf13c4bd2</td>\n",
       "      <td>0</td>\n",
       "      <td>{'amount': 19.51}</td>\n",
       "    </tr>\n",
       "    <tr>\n",
       "      <th>12671</th>\n",
       "      <td>transaction</td>\n",
       "      <td>fe97aa22dd3e48c8b143116a8403dd52</td>\n",
       "      <td>0</td>\n",
       "      <td>{'amount': 18.97}</td>\n",
       "    </tr>\n",
       "  </tbody>\n",
       "</table>\n",
       "</div>"
      ],
      "text/plain": [
       "             event                            person  time  \\\n",
       "12654  transaction  02c083884c7d45b39cc68e1314fec56c     0   \n",
       "12657  transaction  9fa9ae8f57894cc9a3b8a9bbe0fc1b2f     0   \n",
       "12659  transaction  54890f68699049c2a04d415abc25e717     0   \n",
       "12670  transaction  b2f1cd155b864803ad8334cdf13c4bd2     0   \n",
       "12671  transaction  fe97aa22dd3e48c8b143116a8403dd52     0   \n",
       "\n",
       "                                value  \n",
       "12654  {'amount': 0.8300000000000001}  \n",
       "12657               {'amount': 34.56}  \n",
       "12659               {'amount': 13.23}  \n",
       "12670               {'amount': 19.51}  \n",
       "12671               {'amount': 18.97}  "
      ]
     },
     "execution_count": 20,
     "metadata": {},
     "output_type": "execute_result"
    }
   ],
   "source": [
    "transcript[transcript['event'] == 'transaction'].head()"
   ]
  },
  {
   "cell_type": "code",
   "execution_count": 21,
   "metadata": {},
   "outputs": [
    {
     "data": {
      "text/html": [
       "<div>\n",
       "<style scoped>\n",
       "    .dataframe tbody tr th:only-of-type {\n",
       "        vertical-align: middle;\n",
       "    }\n",
       "\n",
       "    .dataframe tbody tr th {\n",
       "        vertical-align: top;\n",
       "    }\n",
       "\n",
       "    .dataframe thead th {\n",
       "        text-align: right;\n",
       "    }\n",
       "</style>\n",
       "<table border=\"1\" class=\"dataframe\">\n",
       "  <thead>\n",
       "    <tr style=\"text-align: right;\">\n",
       "      <th></th>\n",
       "      <th>event</th>\n",
       "      <th>person</th>\n",
       "      <th>time</th>\n",
       "      <th>value</th>\n",
       "    </tr>\n",
       "  </thead>\n",
       "  <tbody>\n",
       "    <tr>\n",
       "      <th>12658</th>\n",
       "      <td>offer completed</td>\n",
       "      <td>9fa9ae8f57894cc9a3b8a9bbe0fc1b2f</td>\n",
       "      <td>0</td>\n",
       "      <td>{'offer_id': '2906b810c7d4411798c6938adc9daaa5...</td>\n",
       "    </tr>\n",
       "    <tr>\n",
       "      <th>12672</th>\n",
       "      <td>offer completed</td>\n",
       "      <td>fe97aa22dd3e48c8b143116a8403dd52</td>\n",
       "      <td>0</td>\n",
       "      <td>{'offer_id': 'fafdcd668e3743c1bb461111dcafc2a4...</td>\n",
       "    </tr>\n",
       "    <tr>\n",
       "      <th>12679</th>\n",
       "      <td>offer completed</td>\n",
       "      <td>629fc02d56414d91bca360decdfa9288</td>\n",
       "      <td>0</td>\n",
       "      <td>{'offer_id': '9b98b8c7a33c4b65b9aebfe6a799e6d9...</td>\n",
       "    </tr>\n",
       "    <tr>\n",
       "      <th>12692</th>\n",
       "      <td>offer completed</td>\n",
       "      <td>676506bad68e4161b9bbaffeb039626b</td>\n",
       "      <td>0</td>\n",
       "      <td>{'offer_id': 'ae264e3637204a6fb9bb56bc8210ddfd...</td>\n",
       "    </tr>\n",
       "    <tr>\n",
       "      <th>12697</th>\n",
       "      <td>offer completed</td>\n",
       "      <td>8f7dd3b2afe14c078eb4f6e6fe4ba97d</td>\n",
       "      <td>0</td>\n",
       "      <td>{'offer_id': '4d5c57ea9a6940dd891ad53e9dbe8da0...</td>\n",
       "    </tr>\n",
       "  </tbody>\n",
       "</table>\n",
       "</div>"
      ],
      "text/plain": [
       "                 event                            person  time  \\\n",
       "12658  offer completed  9fa9ae8f57894cc9a3b8a9bbe0fc1b2f     0   \n",
       "12672  offer completed  fe97aa22dd3e48c8b143116a8403dd52     0   \n",
       "12679  offer completed  629fc02d56414d91bca360decdfa9288     0   \n",
       "12692  offer completed  676506bad68e4161b9bbaffeb039626b     0   \n",
       "12697  offer completed  8f7dd3b2afe14c078eb4f6e6fe4ba97d     0   \n",
       "\n",
       "                                                   value  \n",
       "12658  {'offer_id': '2906b810c7d4411798c6938adc9daaa5...  \n",
       "12672  {'offer_id': 'fafdcd668e3743c1bb461111dcafc2a4...  \n",
       "12679  {'offer_id': '9b98b8c7a33c4b65b9aebfe6a799e6d9...  \n",
       "12692  {'offer_id': 'ae264e3637204a6fb9bb56bc8210ddfd...  \n",
       "12697  {'offer_id': '4d5c57ea9a6940dd891ad53e9dbe8da0...  "
      ]
     },
     "execution_count": 21,
     "metadata": {},
     "output_type": "execute_result"
    }
   ],
   "source": [
    "transcript[transcript['event'] == 'offer completed'].head()"
   ]
  },
  {
   "cell_type": "markdown",
   "metadata": {},
   "source": [
    "There are three types of dictionaries in the value columns\n",
    "1. transaction which has the amount of the transaction\n",
    "2. offer completed which contains the offer id and the name is (offer_id)\n",
    "3. offer viewed and offer recieved contain the offer id and the name is (offer id)"
   ]
  },
  {
   "cell_type": "code",
   "execution_count": 22,
   "metadata": {},
   "outputs": [
    {
     "data": {
      "image/png": "[encoded data removed]",
      "text/plain": [
       "<matplotlib.figure.Figure at 0x7f94fad7cb00>"
      ]
     },
     "metadata": {
      "needs_background": "light"
     },
     "output_type": "display_data"
    }
   ],
   "source": [
    "bar_plot(transcript, 'event', 'Events')"
   ]
  },
  {
   "cell_type": "markdown",
   "metadata": {},
   "source": [
    "## 2. Data Preprocessing"
   ]
  },
  {
   "cell_type": "markdown",
   "metadata": {},
   "source": [
    "###### i) Portfolio Cleaning"
   ]
  },
  {
   "cell_type": "markdown",
   "metadata": {},
   "source": [
    "rename the ID columns for better clarity "
   ]
  },
  {
   "cell_type": "code",
   "execution_count": 23,
   "metadata": {
    "scrolled": true
   },
   "outputs": [],
   "source": [
    "cleaned_portfolio = portfolio.rename(columns = {'id':'offer_id','difficulty':'offer_difficulty','reward':'offer_reward','channels':'offer_channels'})"
   ]
  },
  {
   "cell_type": "code",
   "execution_count": 24,
   "metadata": {},
   "outputs": [
    {
     "data": {
      "text/html": [
       "<div>\n",
       "<style scoped>\n",
       "    .dataframe tbody tr th:only-of-type {\n",
       "        vertical-align: middle;\n",
       "    }\n",
       "\n",
       "    .dataframe tbody tr th {\n",
       "        vertical-align: top;\n",
       "    }\n",
       "\n",
       "    .dataframe thead th {\n",
       "        text-align: right;\n",
       "    }\n",
       "</style>\n",
       "<table border=\"1\" class=\"dataframe\">\n",
       "  <thead>\n",
       "    <tr style=\"text-align: right;\">\n",
       "      <th></th>\n",
       "      <th>offer_channels</th>\n",
       "      <th>offer_difficulty</th>\n",
       "      <th>duration</th>\n",
       "      <th>offer_id</th>\n",
       "      <th>offer_type</th>\n",
       "      <th>offer_reward</th>\n",
       "    </tr>\n",
       "  </thead>\n",
       "  <tbody>\n",
       "    <tr>\n",
       "      <th>0</th>\n",
       "      <td>[email, mobile, social]</td>\n",
       "      <td>10</td>\n",
       "      <td>7</td>\n",
       "      <td>ae264e3637204a6fb9bb56bc8210ddfd</td>\n",
       "      <td>bogo</td>\n",
       "      <td>10</td>\n",
       "    </tr>\n",
       "    <tr>\n",
       "      <th>1</th>\n",
       "      <td>[web, email, mobile, social]</td>\n",
       "      <td>10</td>\n",
       "      <td>5</td>\n",
       "      <td>4d5c57ea9a6940dd891ad53e9dbe8da0</td>\n",
       "      <td>bogo</td>\n",
       "      <td>10</td>\n",
       "    </tr>\n",
       "    <tr>\n",
       "      <th>2</th>\n",
       "      <td>[web, email, mobile]</td>\n",
       "      <td>0</td>\n",
       "      <td>4</td>\n",
       "      <td>3f207df678b143eea3cee63160fa8bed</td>\n",
       "      <td>informational</td>\n",
       "      <td>0</td>\n",
       "    </tr>\n",
       "    <tr>\n",
       "      <th>3</th>\n",
       "      <td>[web, email, mobile]</td>\n",
       "      <td>5</td>\n",
       "      <td>7</td>\n",
       "      <td>9b98b8c7a33c4b65b9aebfe6a799e6d9</td>\n",
       "      <td>bogo</td>\n",
       "      <td>5</td>\n",
       "    </tr>\n",
       "    <tr>\n",
       "      <th>4</th>\n",
       "      <td>[web, email]</td>\n",
       "      <td>20</td>\n",
       "      <td>10</td>\n",
       "      <td>0b1e1539f2cc45b7b9fa7c272da2e1d7</td>\n",
       "      <td>discount</td>\n",
       "      <td>5</td>\n",
       "    </tr>\n",
       "  </tbody>\n",
       "</table>\n",
       "</div>"
      ],
      "text/plain": [
       "                 offer_channels  offer_difficulty  duration  \\\n",
       "0       [email, mobile, social]                10         7   \n",
       "1  [web, email, mobile, social]                10         5   \n",
       "2          [web, email, mobile]                 0         4   \n",
       "3          [web, email, mobile]                 5         7   \n",
       "4                  [web, email]                20        10   \n",
       "\n",
       "                           offer_id     offer_type  offer_reward  \n",
       "0  ae264e3637204a6fb9bb56bc8210ddfd           bogo            10  \n",
       "1  4d5c57ea9a6940dd891ad53e9dbe8da0           bogo            10  \n",
       "2  3f207df678b143eea3cee63160fa8bed  informational             0  \n",
       "3  9b98b8c7a33c4b65b9aebfe6a799e6d9           bogo             5  \n",
       "4  0b1e1539f2cc45b7b9fa7c272da2e1d7       discount             5  "
      ]
     },
     "execution_count": 24,
     "metadata": {},
     "output_type": "execute_result"
    }
   ],
   "source": [
    "cleaned_portfolio.head()"
   ]
  },
  {
   "cell_type": "markdown",
   "metadata": {},
   "source": [
    "###### ii) transcript Cleaning"
   ]
  },
  {
   "cell_type": "markdown",
   "metadata": {},
   "source": [
    "First I will need to fix the value column see the state of offers"
   ]
  },
  {
   "cell_type": "code",
   "execution_count": 25,
   "metadata": {},
   "outputs": [
    {
     "data": {
      "text/html": [
       "<div>\n",
       "<style scoped>\n",
       "    .dataframe tbody tr th:only-of-type {\n",
       "        vertical-align: middle;\n",
       "    }\n",
       "\n",
       "    .dataframe tbody tr th {\n",
       "        vertical-align: top;\n",
       "    }\n",
       "\n",
       "    .dataframe thead th {\n",
       "        text-align: right;\n",
       "    }\n",
       "</style>\n",
       "<table border=\"1\" class=\"dataframe\">\n",
       "  <thead>\n",
       "    <tr style=\"text-align: right;\">\n",
       "      <th></th>\n",
       "      <th>event</th>\n",
       "      <th>person</th>\n",
       "      <th>time</th>\n",
       "      <th>value</th>\n",
       "    </tr>\n",
       "  </thead>\n",
       "  <tbody>\n",
       "    <tr>\n",
       "      <th>0</th>\n",
       "      <td>offer received</td>\n",
       "      <td>78afa995795e4d85b5d9ceeca43f5fef</td>\n",
       "      <td>0</td>\n",
       "      <td>{'offer id': '9b98b8c7a33c4b65b9aebfe6a799e6d9'}</td>\n",
       "    </tr>\n",
       "    <tr>\n",
       "      <th>1</th>\n",
       "      <td>offer received</td>\n",
       "      <td>a03223e636434f42ac4c3df47e8bac43</td>\n",
       "      <td>0</td>\n",
       "      <td>{'offer id': '0b1e1539f2cc45b7b9fa7c272da2e1d7'}</td>\n",
       "    </tr>\n",
       "    <tr>\n",
       "      <th>2</th>\n",
       "      <td>offer received</td>\n",
       "      <td>e2127556f4f64592b11af22de27a7932</td>\n",
       "      <td>0</td>\n",
       "      <td>{'offer id': '2906b810c7d4411798c6938adc9daaa5'}</td>\n",
       "    </tr>\n",
       "    <tr>\n",
       "      <th>3</th>\n",
       "      <td>offer received</td>\n",
       "      <td>8ec6ce2a7e7949b1bf142def7d0e0586</td>\n",
       "      <td>0</td>\n",
       "      <td>{'offer id': 'fafdcd668e3743c1bb461111dcafc2a4'}</td>\n",
       "    </tr>\n",
       "    <tr>\n",
       "      <th>4</th>\n",
       "      <td>offer received</td>\n",
       "      <td>68617ca6246f4fbc85e91a2a49552598</td>\n",
       "      <td>0</td>\n",
       "      <td>{'offer id': '4d5c57ea9a6940dd891ad53e9dbe8da0'}</td>\n",
       "    </tr>\n",
       "  </tbody>\n",
       "</table>\n",
       "</div>"
      ],
      "text/plain": [
       "            event                            person  time  \\\n",
       "0  offer received  78afa995795e4d85b5d9ceeca43f5fef     0   \n",
       "1  offer received  a03223e636434f42ac4c3df47e8bac43     0   \n",
       "2  offer received  e2127556f4f64592b11af22de27a7932     0   \n",
       "3  offer received  8ec6ce2a7e7949b1bf142def7d0e0586     0   \n",
       "4  offer received  68617ca6246f4fbc85e91a2a49552598     0   \n",
       "\n",
       "                                              value  \n",
       "0  {'offer id': '9b98b8c7a33c4b65b9aebfe6a799e6d9'}  \n",
       "1  {'offer id': '0b1e1539f2cc45b7b9fa7c272da2e1d7'}  \n",
       "2  {'offer id': '2906b810c7d4411798c6938adc9daaa5'}  \n",
       "3  {'offer id': 'fafdcd668e3743c1bb461111dcafc2a4'}  \n",
       "4  {'offer id': '4d5c57ea9a6940dd891ad53e9dbe8da0'}  "
      ]
     },
     "execution_count": 25,
     "metadata": {},
     "output_type": "execute_result"
    }
   ],
   "source": [
    "transcript.head()"
   ]
  },
  {
   "cell_type": "code",
   "execution_count": null,
   "metadata": {},
   "outputs": [],
   "source": []
  },
  {
   "cell_type": "code",
   "execution_count": 26,
   "metadata": {},
   "outputs": [],
   "source": [
    "#split the value column\n",
    "transcript['offer_id'] = transcript['value'].apply(lambda x:x.get('offer_id'))\n",
    "transcript['offer id'] = transcript['value'].apply(lambda x:x.get('offer id'))\n",
    "transcript['customer_spending'] = transcript['value'].apply(lambda x:x.get('amount'))\n",
    "transcript['customer_reward'] = transcript['value'].apply(lambda x:x.get('reward'))\n",
    "\n",
    "transcript['offer_id'] = transcript.apply(lambda x:x['offer id'] if x['offer_id'] == None  else x['offer_id'],axis = 1)\n",
    "\n",
    "transcript.drop('offer id',  1, inplace = True)\n",
    "transcript.drop('value',  1, inplace = True)\n",
    "\n",
    "transcript.fillna(0, inplace = True)"
   ]
  },
  {
   "cell_type": "code",
   "execution_count": 27,
   "metadata": {},
   "outputs": [
    {
     "data": {
      "text/html": [
       "<div>\n",
       "<style scoped>\n",
       "    .dataframe tbody tr th:only-of-type {\n",
       "        vertical-align: middle;\n",
       "    }\n",
       "\n",
       "    .dataframe tbody tr th {\n",
       "        vertical-align: top;\n",
       "    }\n",
       "\n",
       "    .dataframe thead th {\n",
       "        text-align: right;\n",
       "    }\n",
       "</style>\n",
       "<table border=\"1\" class=\"dataframe\">\n",
       "  <thead>\n",
       "    <tr style=\"text-align: right;\">\n",
       "      <th></th>\n",
       "      <th>event</th>\n",
       "      <th>person</th>\n",
       "      <th>time</th>\n",
       "      <th>offer_id</th>\n",
       "      <th>customer_spending</th>\n",
       "      <th>customer_reward</th>\n",
       "    </tr>\n",
       "  </thead>\n",
       "  <tbody>\n",
       "    <tr>\n",
       "      <th>0</th>\n",
       "      <td>offer received</td>\n",
       "      <td>78afa995795e4d85b5d9ceeca43f5fef</td>\n",
       "      <td>0</td>\n",
       "      <td>9b98b8c7a33c4b65b9aebfe6a799e6d9</td>\n",
       "      <td>0.0</td>\n",
       "      <td>0.0</td>\n",
       "    </tr>\n",
       "    <tr>\n",
       "      <th>1</th>\n",
       "      <td>offer received</td>\n",
       "      <td>a03223e636434f42ac4c3df47e8bac43</td>\n",
       "      <td>0</td>\n",
       "      <td>0b1e1539f2cc45b7b9fa7c272da2e1d7</td>\n",
       "      <td>0.0</td>\n",
       "      <td>0.0</td>\n",
       "    </tr>\n",
       "    <tr>\n",
       "      <th>2</th>\n",
       "      <td>offer received</td>\n",
       "      <td>e2127556f4f64592b11af22de27a7932</td>\n",
       "      <td>0</td>\n",
       "      <td>2906b810c7d4411798c6938adc9daaa5</td>\n",
       "      <td>0.0</td>\n",
       "      <td>0.0</td>\n",
       "    </tr>\n",
       "    <tr>\n",
       "      <th>3</th>\n",
       "      <td>offer received</td>\n",
       "      <td>8ec6ce2a7e7949b1bf142def7d0e0586</td>\n",
       "      <td>0</td>\n",
       "      <td>fafdcd668e3743c1bb461111dcafc2a4</td>\n",
       "      <td>0.0</td>\n",
       "      <td>0.0</td>\n",
       "    </tr>\n",
       "    <tr>\n",
       "      <th>4</th>\n",
       "      <td>offer received</td>\n",
       "      <td>68617ca6246f4fbc85e91a2a49552598</td>\n",
       "      <td>0</td>\n",
       "      <td>4d5c57ea9a6940dd891ad53e9dbe8da0</td>\n",
       "      <td>0.0</td>\n",
       "      <td>0.0</td>\n",
       "    </tr>\n",
       "  </tbody>\n",
       "</table>\n",
       "</div>"
      ],
      "text/plain": [
       "            event                            person  time  \\\n",
       "0  offer received  78afa995795e4d85b5d9ceeca43f5fef     0   \n",
       "1  offer received  a03223e636434f42ac4c3df47e8bac43     0   \n",
       "2  offer received  e2127556f4f64592b11af22de27a7932     0   \n",
       "3  offer received  8ec6ce2a7e7949b1bf142def7d0e0586     0   \n",
       "4  offer received  68617ca6246f4fbc85e91a2a49552598     0   \n",
       "\n",
       "                           offer_id  customer_spending  customer_reward  \n",
       "0  9b98b8c7a33c4b65b9aebfe6a799e6d9                0.0              0.0  \n",
       "1  0b1e1539f2cc45b7b9fa7c272da2e1d7                0.0              0.0  \n",
       "2  2906b810c7d4411798c6938adc9daaa5                0.0              0.0  \n",
       "3  fafdcd668e3743c1bb461111dcafc2a4                0.0              0.0  \n",
       "4  4d5c57ea9a6940dd891ad53e9dbe8da0                0.0              0.0  "
      ]
     },
     "execution_count": 27,
     "metadata": {},
     "output_type": "execute_result"
    }
   ],
   "source": [
    "transcript.head()"
   ]
  },
  {
   "cell_type": "code",
   "execution_count": 28,
   "metadata": {},
   "outputs": [],
   "source": [
    "# Renaming for calrity\n",
    "transcript = transcript.rename(columns ={'person':'customer_id'})"
   ]
  },
  {
   "cell_type": "code",
   "execution_count": 29,
   "metadata": {},
   "outputs": [
    {
     "data": {
      "text/html": [
       "<div>\n",
       "<style scoped>\n",
       "    .dataframe tbody tr th:only-of-type {\n",
       "        vertical-align: middle;\n",
       "    }\n",
       "\n",
       "    .dataframe tbody tr th {\n",
       "        vertical-align: top;\n",
       "    }\n",
       "\n",
       "    .dataframe thead th {\n",
       "        text-align: right;\n",
       "    }\n",
       "</style>\n",
       "<table border=\"1\" class=\"dataframe\">\n",
       "  <thead>\n",
       "    <tr style=\"text-align: right;\">\n",
       "      <th></th>\n",
       "      <th>event</th>\n",
       "      <th>customer_id</th>\n",
       "      <th>time</th>\n",
       "      <th>offer_id</th>\n",
       "      <th>customer_spending</th>\n",
       "      <th>customer_reward</th>\n",
       "    </tr>\n",
       "  </thead>\n",
       "  <tbody>\n",
       "    <tr>\n",
       "      <th>0</th>\n",
       "      <td>offer received</td>\n",
       "      <td>78afa995795e4d85b5d9ceeca43f5fef</td>\n",
       "      <td>0</td>\n",
       "      <td>9b98b8c7a33c4b65b9aebfe6a799e6d9</td>\n",
       "      <td>0.0</td>\n",
       "      <td>0.0</td>\n",
       "    </tr>\n",
       "    <tr>\n",
       "      <th>1</th>\n",
       "      <td>offer received</td>\n",
       "      <td>a03223e636434f42ac4c3df47e8bac43</td>\n",
       "      <td>0</td>\n",
       "      <td>0b1e1539f2cc45b7b9fa7c272da2e1d7</td>\n",
       "      <td>0.0</td>\n",
       "      <td>0.0</td>\n",
       "    </tr>\n",
       "    <tr>\n",
       "      <th>2</th>\n",
       "      <td>offer received</td>\n",
       "      <td>e2127556f4f64592b11af22de27a7932</td>\n",
       "      <td>0</td>\n",
       "      <td>2906b810c7d4411798c6938adc9daaa5</td>\n",
       "      <td>0.0</td>\n",
       "      <td>0.0</td>\n",
       "    </tr>\n",
       "    <tr>\n",
       "      <th>3</th>\n",
       "      <td>offer received</td>\n",
       "      <td>8ec6ce2a7e7949b1bf142def7d0e0586</td>\n",
       "      <td>0</td>\n",
       "      <td>fafdcd668e3743c1bb461111dcafc2a4</td>\n",
       "      <td>0.0</td>\n",
       "      <td>0.0</td>\n",
       "    </tr>\n",
       "    <tr>\n",
       "      <th>4</th>\n",
       "      <td>offer received</td>\n",
       "      <td>68617ca6246f4fbc85e91a2a49552598</td>\n",
       "      <td>0</td>\n",
       "      <td>4d5c57ea9a6940dd891ad53e9dbe8da0</td>\n",
       "      <td>0.0</td>\n",
       "      <td>0.0</td>\n",
       "    </tr>\n",
       "  </tbody>\n",
       "</table>\n",
       "</div>"
      ],
      "text/plain": [
       "            event                       customer_id  time  \\\n",
       "0  offer received  78afa995795e4d85b5d9ceeca43f5fef     0   \n",
       "1  offer received  a03223e636434f42ac4c3df47e8bac43     0   \n",
       "2  offer received  e2127556f4f64592b11af22de27a7932     0   \n",
       "3  offer received  8ec6ce2a7e7949b1bf142def7d0e0586     0   \n",
       "4  offer received  68617ca6246f4fbc85e91a2a49552598     0   \n",
       "\n",
       "                           offer_id  customer_spending  customer_reward  \n",
       "0  9b98b8c7a33c4b65b9aebfe6a799e6d9                0.0              0.0  \n",
       "1  0b1e1539f2cc45b7b9fa7c272da2e1d7                0.0              0.0  \n",
       "2  2906b810c7d4411798c6938adc9daaa5                0.0              0.0  \n",
       "3  fafdcd668e3743c1bb461111dcafc2a4                0.0              0.0  \n",
       "4  4d5c57ea9a6940dd891ad53e9dbe8da0                0.0              0.0  "
      ]
     },
     "execution_count": 29,
     "metadata": {},
     "output_type": "execute_result"
    }
   ],
   "source": [
    "transcript.head()"
   ]
  },
  {
   "cell_type": "code",
   "execution_count": 30,
   "metadata": {},
   "outputs": [
    {
     "name": "stdout",
     "output_type": "stream",
     "text": [
      "<class 'pandas.core.frame.DataFrame'>\n",
      "RangeIndex: 306534 entries, 0 to 306533\n",
      "Data columns (total 6 columns):\n",
      "event                306534 non-null object\n",
      "customer_id          306534 non-null object\n",
      "time                 306534 non-null int64\n",
      "offer_id             306534 non-null object\n",
      "customer_spending    306534 non-null float64\n",
      "customer_reward      306534 non-null float64\n",
      "dtypes: float64(2), int64(1), object(3)\n",
      "memory usage: 14.0+ MB\n"
     ]
    }
   ],
   "source": [
    "transcript.info()"
   ]
  },
  {
   "cell_type": "markdown",
   "metadata": {},
   "source": []
  },
  {
   "cell_type": "markdown",
   "metadata": {},
   "source": [
    "###### iii) profile"
   ]
  },
  {
   "cell_type": "code",
   "execution_count": 31,
   "metadata": {},
   "outputs": [
    {
     "data": {
      "text/html": [
       "<div>\n",
       "<style scoped>\n",
       "    .dataframe tbody tr th:only-of-type {\n",
       "        vertical-align: middle;\n",
       "    }\n",
       "\n",
       "    .dataframe tbody tr th {\n",
       "        vertical-align: top;\n",
       "    }\n",
       "\n",
       "    .dataframe thead th {\n",
       "        text-align: right;\n",
       "    }\n",
       "</style>\n",
       "<table border=\"1\" class=\"dataframe\">\n",
       "  <thead>\n",
       "    <tr style=\"text-align: right;\">\n",
       "      <th></th>\n",
       "      <th>age</th>\n",
       "      <th>became_member_on</th>\n",
       "      <th>gender</th>\n",
       "      <th>id</th>\n",
       "      <th>income</th>\n",
       "    </tr>\n",
       "  </thead>\n",
       "  <tbody>\n",
       "    <tr>\n",
       "      <th>1</th>\n",
       "      <td>55</td>\n",
       "      <td>20170715</td>\n",
       "      <td>F</td>\n",
       "      <td>0610b486422d4921ae7d2bf64640c50b</td>\n",
       "      <td>112000.0</td>\n",
       "    </tr>\n",
       "    <tr>\n",
       "      <th>3</th>\n",
       "      <td>75</td>\n",
       "      <td>20170509</td>\n",
       "      <td>F</td>\n",
       "      <td>78afa995795e4d85b5d9ceeca43f5fef</td>\n",
       "      <td>100000.0</td>\n",
       "    </tr>\n",
       "    <tr>\n",
       "      <th>5</th>\n",
       "      <td>68</td>\n",
       "      <td>20180426</td>\n",
       "      <td>M</td>\n",
       "      <td>e2127556f4f64592b11af22de27a7932</td>\n",
       "      <td>70000.0</td>\n",
       "    </tr>\n",
       "    <tr>\n",
       "      <th>8</th>\n",
       "      <td>65</td>\n",
       "      <td>20180209</td>\n",
       "      <td>M</td>\n",
       "      <td>389bc3fa690240e798340f5a15918d5c</td>\n",
       "      <td>53000.0</td>\n",
       "    </tr>\n",
       "    <tr>\n",
       "      <th>12</th>\n",
       "      <td>58</td>\n",
       "      <td>20171111</td>\n",
       "      <td>M</td>\n",
       "      <td>2eeac8d8feae4a8cad5a6af0499a211d</td>\n",
       "      <td>51000.0</td>\n",
       "    </tr>\n",
       "  </tbody>\n",
       "</table>\n",
       "</div>"
      ],
      "text/plain": [
       "    age  became_member_on gender                                id    income\n",
       "1    55          20170715      F  0610b486422d4921ae7d2bf64640c50b  112000.0\n",
       "3    75          20170509      F  78afa995795e4d85b5d9ceeca43f5fef  100000.0\n",
       "5    68          20180426      M  e2127556f4f64592b11af22de27a7932   70000.0\n",
       "8    65          20180209      M  389bc3fa690240e798340f5a15918d5c   53000.0\n",
       "12   58          20171111      M  2eeac8d8feae4a8cad5a6af0499a211d   51000.0"
      ]
     },
     "execution_count": 31,
     "metadata": {},
     "output_type": "execute_result"
    }
   ],
   "source": [
    "cleaned_profile.head()"
   ]
  },
  {
   "cell_type": "code",
   "execution_count": 32,
   "metadata": {},
   "outputs": [],
   "source": [
    "# rename Id to customer ID to merge\n",
    "cleaned_profile = cleaned_profile.rename(columns ={'id':'customer_id'})"
   ]
  },
  {
   "cell_type": "code",
   "execution_count": 33,
   "metadata": {},
   "outputs": [
    {
     "data": {
      "text/html": [
       "<div>\n",
       "<style scoped>\n",
       "    .dataframe tbody tr th:only-of-type {\n",
       "        vertical-align: middle;\n",
       "    }\n",
       "\n",
       "    .dataframe tbody tr th {\n",
       "        vertical-align: top;\n",
       "    }\n",
       "\n",
       "    .dataframe thead th {\n",
       "        text-align: right;\n",
       "    }\n",
       "</style>\n",
       "<table border=\"1\" class=\"dataframe\">\n",
       "  <thead>\n",
       "    <tr style=\"text-align: right;\">\n",
       "      <th></th>\n",
       "      <th>age</th>\n",
       "      <th>became_member_on</th>\n",
       "      <th>gender</th>\n",
       "      <th>customer_id</th>\n",
       "      <th>income</th>\n",
       "    </tr>\n",
       "  </thead>\n",
       "  <tbody>\n",
       "    <tr>\n",
       "      <th>1</th>\n",
       "      <td>55</td>\n",
       "      <td>20170715</td>\n",
       "      <td>F</td>\n",
       "      <td>0610b486422d4921ae7d2bf64640c50b</td>\n",
       "      <td>112000.0</td>\n",
       "    </tr>\n",
       "    <tr>\n",
       "      <th>3</th>\n",
       "      <td>75</td>\n",
       "      <td>20170509</td>\n",
       "      <td>F</td>\n",
       "      <td>78afa995795e4d85b5d9ceeca43f5fef</td>\n",
       "      <td>100000.0</td>\n",
       "    </tr>\n",
       "    <tr>\n",
       "      <th>5</th>\n",
       "      <td>68</td>\n",
       "      <td>20180426</td>\n",
       "      <td>M</td>\n",
       "      <td>e2127556f4f64592b11af22de27a7932</td>\n",
       "      <td>70000.0</td>\n",
       "    </tr>\n",
       "    <tr>\n",
       "      <th>8</th>\n",
       "      <td>65</td>\n",
       "      <td>20180209</td>\n",
       "      <td>M</td>\n",
       "      <td>389bc3fa690240e798340f5a15918d5c</td>\n",
       "      <td>53000.0</td>\n",
       "    </tr>\n",
       "    <tr>\n",
       "      <th>12</th>\n",
       "      <td>58</td>\n",
       "      <td>20171111</td>\n",
       "      <td>M</td>\n",
       "      <td>2eeac8d8feae4a8cad5a6af0499a211d</td>\n",
       "      <td>51000.0</td>\n",
       "    </tr>\n",
       "  </tbody>\n",
       "</table>\n",
       "</div>"
      ],
      "text/plain": [
       "    age  became_member_on gender                       customer_id    income\n",
       "1    55          20170715      F  0610b486422d4921ae7d2bf64640c50b  112000.0\n",
       "3    75          20170509      F  78afa995795e4d85b5d9ceeca43f5fef  100000.0\n",
       "5    68          20180426      M  e2127556f4f64592b11af22de27a7932   70000.0\n",
       "8    65          20180209      M  389bc3fa690240e798340f5a15918d5c   53000.0\n",
       "12   58          20171111      M  2eeac8d8feae4a8cad5a6af0499a211d   51000.0"
      ]
     },
     "execution_count": 33,
     "metadata": {},
     "output_type": "execute_result"
    }
   ],
   "source": [
    "cleaned_profile.head()"
   ]
  },
  {
   "cell_type": "markdown",
   "metadata": {},
   "source": [
    "For the age columns I am going to put in an arbitary age groups \n",
    "1. College + High school students (18, 24)\n",
    "2. younger adults (25, 45)\n",
    "3. Adults (46, 60)\n",
    "4. Retires (61,80)\n",
    "5. Very old (80+)"
   ]
  },
  {
   "cell_type": "code",
   "execution_count": 34,
   "metadata": {},
   "outputs": [
    {
     "data": {
      "text/html": [
       "<div>\n",
       "<style scoped>\n",
       "    .dataframe tbody tr th:only-of-type {\n",
       "        vertical-align: middle;\n",
       "    }\n",
       "\n",
       "    .dataframe tbody tr th {\n",
       "        vertical-align: top;\n",
       "    }\n",
       "\n",
       "    .dataframe thead th {\n",
       "        text-align: right;\n",
       "    }\n",
       "</style>\n",
       "<table border=\"1\" class=\"dataframe\">\n",
       "  <thead>\n",
       "    <tr style=\"text-align: right;\">\n",
       "      <th></th>\n",
       "      <th>age</th>\n",
       "      <th>became_member_on</th>\n",
       "      <th>gender</th>\n",
       "      <th>customer_id</th>\n",
       "      <th>income</th>\n",
       "    </tr>\n",
       "  </thead>\n",
       "  <tbody>\n",
       "    <tr>\n",
       "      <th>1</th>\n",
       "      <td>55</td>\n",
       "      <td>20170715</td>\n",
       "      <td>F</td>\n",
       "      <td>0610b486422d4921ae7d2bf64640c50b</td>\n",
       "      <td>112000.0</td>\n",
       "    </tr>\n",
       "    <tr>\n",
       "      <th>3</th>\n",
       "      <td>75</td>\n",
       "      <td>20170509</td>\n",
       "      <td>F</td>\n",
       "      <td>78afa995795e4d85b5d9ceeca43f5fef</td>\n",
       "      <td>100000.0</td>\n",
       "    </tr>\n",
       "    <tr>\n",
       "      <th>5</th>\n",
       "      <td>68</td>\n",
       "      <td>20180426</td>\n",
       "      <td>M</td>\n",
       "      <td>e2127556f4f64592b11af22de27a7932</td>\n",
       "      <td>70000.0</td>\n",
       "    </tr>\n",
       "    <tr>\n",
       "      <th>8</th>\n",
       "      <td>65</td>\n",
       "      <td>20180209</td>\n",
       "      <td>M</td>\n",
       "      <td>389bc3fa690240e798340f5a15918d5c</td>\n",
       "      <td>53000.0</td>\n",
       "    </tr>\n",
       "    <tr>\n",
       "      <th>12</th>\n",
       "      <td>58</td>\n",
       "      <td>20171111</td>\n",
       "      <td>M</td>\n",
       "      <td>2eeac8d8feae4a8cad5a6af0499a211d</td>\n",
       "      <td>51000.0</td>\n",
       "    </tr>\n",
       "  </tbody>\n",
       "</table>\n",
       "</div>"
      ],
      "text/plain": [
       "    age  became_member_on gender                       customer_id    income\n",
       "1    55          20170715      F  0610b486422d4921ae7d2bf64640c50b  112000.0\n",
       "3    75          20170509      F  78afa995795e4d85b5d9ceeca43f5fef  100000.0\n",
       "5    68          20180426      M  e2127556f4f64592b11af22de27a7932   70000.0\n",
       "8    65          20180209      M  389bc3fa690240e798340f5a15918d5c   53000.0\n",
       "12   58          20171111      M  2eeac8d8feae4a8cad5a6af0499a211d   51000.0"
      ]
     },
     "execution_count": 34,
     "metadata": {},
     "output_type": "execute_result"
    }
   ],
   "source": [
    " cleaned_profile.head()\n",
    "\n"
   ]
  },
  {
   "cell_type": "code",
   "execution_count": 35,
   "metadata": {},
   "outputs": [],
   "source": [
    "# Replace the age column with age group column and drop age\n",
    "bins = [18,24,45,60,80,101]\n",
    "lables = ['(18, 24)','(25, 45)','(46, 60)','(61,80)','(80+)']\n",
    "cleaned_profile['Age_Group'] = pd.cut(cleaned_profile['age'], bins=bins, labels=lables, right=False)\n",
    "cleaned_profile=cleaned_profile.drop('age',axis=1)"
   ]
  },
  {
   "cell_type": "code",
   "execution_count": 36,
   "metadata": {},
   "outputs": [
    {
     "data": {
      "text/html": [
       "<div>\n",
       "<style scoped>\n",
       "    .dataframe tbody tr th:only-of-type {\n",
       "        vertical-align: middle;\n",
       "    }\n",
       "\n",
       "    .dataframe tbody tr th {\n",
       "        vertical-align: top;\n",
       "    }\n",
       "\n",
       "    .dataframe thead th {\n",
       "        text-align: right;\n",
       "    }\n",
       "</style>\n",
       "<table border=\"1\" class=\"dataframe\">\n",
       "  <thead>\n",
       "    <tr style=\"text-align: right;\">\n",
       "      <th></th>\n",
       "      <th>became_member_on</th>\n",
       "      <th>gender</th>\n",
       "      <th>customer_id</th>\n",
       "      <th>income</th>\n",
       "      <th>Age_Group</th>\n",
       "    </tr>\n",
       "  </thead>\n",
       "  <tbody>\n",
       "    <tr>\n",
       "      <th>1</th>\n",
       "      <td>20170715</td>\n",
       "      <td>F</td>\n",
       "      <td>0610b486422d4921ae7d2bf64640c50b</td>\n",
       "      <td>112000.0</td>\n",
       "      <td>(46, 60)</td>\n",
       "    </tr>\n",
       "    <tr>\n",
       "      <th>3</th>\n",
       "      <td>20170509</td>\n",
       "      <td>F</td>\n",
       "      <td>78afa995795e4d85b5d9ceeca43f5fef</td>\n",
       "      <td>100000.0</td>\n",
       "      <td>(61,80)</td>\n",
       "    </tr>\n",
       "    <tr>\n",
       "      <th>5</th>\n",
       "      <td>20180426</td>\n",
       "      <td>M</td>\n",
       "      <td>e2127556f4f64592b11af22de27a7932</td>\n",
       "      <td>70000.0</td>\n",
       "      <td>(61,80)</td>\n",
       "    </tr>\n",
       "    <tr>\n",
       "      <th>8</th>\n",
       "      <td>20180209</td>\n",
       "      <td>M</td>\n",
       "      <td>389bc3fa690240e798340f5a15918d5c</td>\n",
       "      <td>53000.0</td>\n",
       "      <td>(61,80)</td>\n",
       "    </tr>\n",
       "    <tr>\n",
       "      <th>12</th>\n",
       "      <td>20171111</td>\n",
       "      <td>M</td>\n",
       "      <td>2eeac8d8feae4a8cad5a6af0499a211d</td>\n",
       "      <td>51000.0</td>\n",
       "      <td>(46, 60)</td>\n",
       "    </tr>\n",
       "  </tbody>\n",
       "</table>\n",
       "</div>"
      ],
      "text/plain": [
       "    became_member_on gender                       customer_id    income  \\\n",
       "1           20170715      F  0610b486422d4921ae7d2bf64640c50b  112000.0   \n",
       "3           20170509      F  78afa995795e4d85b5d9ceeca43f5fef  100000.0   \n",
       "5           20180426      M  e2127556f4f64592b11af22de27a7932   70000.0   \n",
       "8           20180209      M  389bc3fa690240e798340f5a15918d5c   53000.0   \n",
       "12          20171111      M  2eeac8d8feae4a8cad5a6af0499a211d   51000.0   \n",
       "\n",
       "   Age_Group  \n",
       "1   (46, 60)  \n",
       "3    (61,80)  \n",
       "5    (61,80)  \n",
       "8    (61,80)  \n",
       "12  (46, 60)  "
      ]
     },
     "execution_count": 36,
     "metadata": {},
     "output_type": "execute_result"
    }
   ],
   "source": [
    "cleaned_profile.head()"
   ]
  },
  {
   "cell_type": "markdown",
   "metadata": {},
   "source": [
    "Final step is to transform the became_memmber_on column into datetime column"
   ]
  },
  {
   "cell_type": "code",
   "execution_count": 37,
   "metadata": {},
   "outputs": [],
   "source": [
    "cleaned_profile['became_member_on'] = pd.to_datetime(cleaned_profile['became_member_on'],format=\"%Y%m%d\")"
   ]
  },
  {
   "cell_type": "code",
   "execution_count": 38,
   "metadata": {},
   "outputs": [
    {
     "data": {
      "text/html": [
       "<div>\n",
       "<style scoped>\n",
       "    .dataframe tbody tr th:only-of-type {\n",
       "        vertical-align: middle;\n",
       "    }\n",
       "\n",
       "    .dataframe tbody tr th {\n",
       "        vertical-align: top;\n",
       "    }\n",
       "\n",
       "    .dataframe thead th {\n",
       "        text-align: right;\n",
       "    }\n",
       "</style>\n",
       "<table border=\"1\" class=\"dataframe\">\n",
       "  <thead>\n",
       "    <tr style=\"text-align: right;\">\n",
       "      <th></th>\n",
       "      <th>became_member_on</th>\n",
       "      <th>gender</th>\n",
       "      <th>customer_id</th>\n",
       "      <th>income</th>\n",
       "      <th>Age_Group</th>\n",
       "    </tr>\n",
       "  </thead>\n",
       "  <tbody>\n",
       "    <tr>\n",
       "      <th>1</th>\n",
       "      <td>2017-07-15</td>\n",
       "      <td>F</td>\n",
       "      <td>0610b486422d4921ae7d2bf64640c50b</td>\n",
       "      <td>112000.0</td>\n",
       "      <td>(46, 60)</td>\n",
       "    </tr>\n",
       "    <tr>\n",
       "      <th>3</th>\n",
       "      <td>2017-05-09</td>\n",
       "      <td>F</td>\n",
       "      <td>78afa995795e4d85b5d9ceeca43f5fef</td>\n",
       "      <td>100000.0</td>\n",
       "      <td>(61,80)</td>\n",
       "    </tr>\n",
       "    <tr>\n",
       "      <th>5</th>\n",
       "      <td>2018-04-26</td>\n",
       "      <td>M</td>\n",
       "      <td>e2127556f4f64592b11af22de27a7932</td>\n",
       "      <td>70000.0</td>\n",
       "      <td>(61,80)</td>\n",
       "    </tr>\n",
       "    <tr>\n",
       "      <th>8</th>\n",
       "      <td>2018-02-09</td>\n",
       "      <td>M</td>\n",
       "      <td>389bc3fa690240e798340f5a15918d5c</td>\n",
       "      <td>53000.0</td>\n",
       "      <td>(61,80)</td>\n",
       "    </tr>\n",
       "    <tr>\n",
       "      <th>12</th>\n",
       "      <td>2017-11-11</td>\n",
       "      <td>M</td>\n",
       "      <td>2eeac8d8feae4a8cad5a6af0499a211d</td>\n",
       "      <td>51000.0</td>\n",
       "      <td>(46, 60)</td>\n",
       "    </tr>\n",
       "  </tbody>\n",
       "</table>\n",
       "</div>"
      ],
      "text/plain": [
       "   became_member_on gender                       customer_id    income  \\\n",
       "1        2017-07-15      F  0610b486422d4921ae7d2bf64640c50b  112000.0   \n",
       "3        2017-05-09      F  78afa995795e4d85b5d9ceeca43f5fef  100000.0   \n",
       "5        2018-04-26      M  e2127556f4f64592b11af22de27a7932   70000.0   \n",
       "8        2018-02-09      M  389bc3fa690240e798340f5a15918d5c   53000.0   \n",
       "12       2017-11-11      M  2eeac8d8feae4a8cad5a6af0499a211d   51000.0   \n",
       "\n",
       "   Age_Group  \n",
       "1   (46, 60)  \n",
       "3    (61,80)  \n",
       "5    (61,80)  \n",
       "8    (61,80)  \n",
       "12  (46, 60)  "
      ]
     },
     "execution_count": 38,
     "metadata": {},
     "output_type": "execute_result"
    }
   ],
   "source": [
    "cleaned_profile.head()"
   ]
  },
  {
   "cell_type": "code",
   "execution_count": 39,
   "metadata": {},
   "outputs": [
    {
     "name": "stdout",
     "output_type": "stream",
     "text": [
      "<class 'pandas.core.frame.DataFrame'>\n",
      "Int64Index: 14825 entries, 1 to 16999\n",
      "Data columns (total 5 columns):\n",
      "became_member_on    14825 non-null datetime64[ns]\n",
      "gender              14825 non-null object\n",
      "customer_id         14825 non-null object\n",
      "income              14825 non-null float64\n",
      "Age_Group           14820 non-null category\n",
      "dtypes: category(1), datetime64[ns](1), float64(1), object(2)\n",
      "memory usage: 593.8+ KB\n"
     ]
    }
   ],
   "source": [
    "cleaned_profile.info()"
   ]
  },
  {
   "cell_type": "markdown",
   "metadata": {},
   "source": [
    "#### Merge the dataframes"
   ]
  },
  {
   "cell_type": "code",
   "execution_count": 40,
   "metadata": {},
   "outputs": [
    {
     "name": "stdout",
     "output_type": "stream",
     "text": [
      "<class 'pandas.core.frame.DataFrame'>\n",
      "Int64Index: 14825 entries, 1 to 16999\n",
      "Data columns (total 5 columns):\n",
      "became_member_on    14825 non-null datetime64[ns]\n",
      "gender              14825 non-null object\n",
      "customer_id         14825 non-null object\n",
      "income              14825 non-null float64\n",
      "Age_Group           14820 non-null category\n",
      "dtypes: category(1), datetime64[ns](1), float64(1), object(2)\n",
      "memory usage: 593.8+ KB\n"
     ]
    }
   ],
   "source": [
    "cleaned_profile.info()"
   ]
  },
  {
   "cell_type": "code",
   "execution_count": 41,
   "metadata": {},
   "outputs": [
    {
     "name": "stdout",
     "output_type": "stream",
     "text": [
      "<class 'pandas.core.frame.DataFrame'>\n",
      "RangeIndex: 10 entries, 0 to 9\n",
      "Data columns (total 6 columns):\n",
      "offer_channels      10 non-null object\n",
      "offer_difficulty    10 non-null int64\n",
      "duration            10 non-null int64\n",
      "offer_id            10 non-null object\n",
      "offer_type          10 non-null object\n",
      "offer_reward        10 non-null int64\n",
      "dtypes: int64(3), object(3)\n",
      "memory usage: 560.0+ bytes\n"
     ]
    }
   ],
   "source": [
    "cleaned_portfolio.info()"
   ]
  },
  {
   "cell_type": "code",
   "execution_count": 42,
   "metadata": {},
   "outputs": [
    {
     "data": {
      "text/html": [
       "<div>\n",
       "<style scoped>\n",
       "    .dataframe tbody tr th:only-of-type {\n",
       "        vertical-align: middle;\n",
       "    }\n",
       "\n",
       "    .dataframe tbody tr th {\n",
       "        vertical-align: top;\n",
       "    }\n",
       "\n",
       "    .dataframe thead th {\n",
       "        text-align: right;\n",
       "    }\n",
       "</style>\n",
       "<table border=\"1\" class=\"dataframe\">\n",
       "  <thead>\n",
       "    <tr style=\"text-align: right;\">\n",
       "      <th></th>\n",
       "      <th>event</th>\n",
       "      <th>customer_id</th>\n",
       "      <th>time</th>\n",
       "      <th>offer_id</th>\n",
       "      <th>customer_spending</th>\n",
       "      <th>customer_reward</th>\n",
       "    </tr>\n",
       "  </thead>\n",
       "  <tbody>\n",
       "    <tr>\n",
       "      <th>0</th>\n",
       "      <td>offer received</td>\n",
       "      <td>78afa995795e4d85b5d9ceeca43f5fef</td>\n",
       "      <td>0</td>\n",
       "      <td>9b98b8c7a33c4b65b9aebfe6a799e6d9</td>\n",
       "      <td>0.0</td>\n",
       "      <td>0.0</td>\n",
       "    </tr>\n",
       "    <tr>\n",
       "      <th>1</th>\n",
       "      <td>offer received</td>\n",
       "      <td>a03223e636434f42ac4c3df47e8bac43</td>\n",
       "      <td>0</td>\n",
       "      <td>0b1e1539f2cc45b7b9fa7c272da2e1d7</td>\n",
       "      <td>0.0</td>\n",
       "      <td>0.0</td>\n",
       "    </tr>\n",
       "    <tr>\n",
       "      <th>2</th>\n",
       "      <td>offer received</td>\n",
       "      <td>e2127556f4f64592b11af22de27a7932</td>\n",
       "      <td>0</td>\n",
       "      <td>2906b810c7d4411798c6938adc9daaa5</td>\n",
       "      <td>0.0</td>\n",
       "      <td>0.0</td>\n",
       "    </tr>\n",
       "    <tr>\n",
       "      <th>3</th>\n",
       "      <td>offer received</td>\n",
       "      <td>8ec6ce2a7e7949b1bf142def7d0e0586</td>\n",
       "      <td>0</td>\n",
       "      <td>fafdcd668e3743c1bb461111dcafc2a4</td>\n",
       "      <td>0.0</td>\n",
       "      <td>0.0</td>\n",
       "    </tr>\n",
       "    <tr>\n",
       "      <th>4</th>\n",
       "      <td>offer received</td>\n",
       "      <td>68617ca6246f4fbc85e91a2a49552598</td>\n",
       "      <td>0</td>\n",
       "      <td>4d5c57ea9a6940dd891ad53e9dbe8da0</td>\n",
       "      <td>0.0</td>\n",
       "      <td>0.0</td>\n",
       "    </tr>\n",
       "  </tbody>\n",
       "</table>\n",
       "</div>"
      ],
      "text/plain": [
       "            event                       customer_id  time  \\\n",
       "0  offer received  78afa995795e4d85b5d9ceeca43f5fef     0   \n",
       "1  offer received  a03223e636434f42ac4c3df47e8bac43     0   \n",
       "2  offer received  e2127556f4f64592b11af22de27a7932     0   \n",
       "3  offer received  8ec6ce2a7e7949b1bf142def7d0e0586     0   \n",
       "4  offer received  68617ca6246f4fbc85e91a2a49552598     0   \n",
       "\n",
       "                           offer_id  customer_spending  customer_reward  \n",
       "0  9b98b8c7a33c4b65b9aebfe6a799e6d9                0.0              0.0  \n",
       "1  0b1e1539f2cc45b7b9fa7c272da2e1d7                0.0              0.0  \n",
       "2  2906b810c7d4411798c6938adc9daaa5                0.0              0.0  \n",
       "3  fafdcd668e3743c1bb461111dcafc2a4                0.0              0.0  \n",
       "4  4d5c57ea9a6940dd891ad53e9dbe8da0                0.0              0.0  "
      ]
     },
     "execution_count": 42,
     "metadata": {},
     "output_type": "execute_result"
    }
   ],
   "source": [
    "transcript.head()"
   ]
  },
  {
   "cell_type": "code",
   "execution_count": 43,
   "metadata": {},
   "outputs": [
    {
     "data": {
      "text/html": [
       "<div>\n",
       "<style scoped>\n",
       "    .dataframe tbody tr th:only-of-type {\n",
       "        vertical-align: middle;\n",
       "    }\n",
       "\n",
       "    .dataframe tbody tr th {\n",
       "        vertical-align: top;\n",
       "    }\n",
       "\n",
       "    .dataframe thead th {\n",
       "        text-align: right;\n",
       "    }\n",
       "</style>\n",
       "<table border=\"1\" class=\"dataframe\">\n",
       "  <thead>\n",
       "    <tr style=\"text-align: right;\">\n",
       "      <th></th>\n",
       "      <th>event</th>\n",
       "      <th>customer_id</th>\n",
       "      <th>time</th>\n",
       "      <th>offer_id</th>\n",
       "      <th>customer_spending</th>\n",
       "      <th>customer_reward</th>\n",
       "      <th>offer_channels</th>\n",
       "      <th>offer_difficulty</th>\n",
       "      <th>duration</th>\n",
       "      <th>offer_type</th>\n",
       "      <th>offer_reward</th>\n",
       "    </tr>\n",
       "  </thead>\n",
       "  <tbody>\n",
       "    <tr>\n",
       "      <th>0</th>\n",
       "      <td>offer received</td>\n",
       "      <td>78afa995795e4d85b5d9ceeca43f5fef</td>\n",
       "      <td>0</td>\n",
       "      <td>9b98b8c7a33c4b65b9aebfe6a799e6d9</td>\n",
       "      <td>0.0</td>\n",
       "      <td>0.0</td>\n",
       "      <td>[web, email, mobile]</td>\n",
       "      <td>5</td>\n",
       "      <td>7</td>\n",
       "      <td>bogo</td>\n",
       "      <td>5</td>\n",
       "    </tr>\n",
       "    <tr>\n",
       "      <th>1</th>\n",
       "      <td>offer received</td>\n",
       "      <td>ebe7ef46ea6f4963a7dd49f501b26779</td>\n",
       "      <td>0</td>\n",
       "      <td>9b98b8c7a33c4b65b9aebfe6a799e6d9</td>\n",
       "      <td>0.0</td>\n",
       "      <td>0.0</td>\n",
       "      <td>[web, email, mobile]</td>\n",
       "      <td>5</td>\n",
       "      <td>7</td>\n",
       "      <td>bogo</td>\n",
       "      <td>5</td>\n",
       "    </tr>\n",
       "    <tr>\n",
       "      <th>2</th>\n",
       "      <td>offer received</td>\n",
       "      <td>f082d80f0aac47a99173ba8ef8fc1909</td>\n",
       "      <td>0</td>\n",
       "      <td>9b98b8c7a33c4b65b9aebfe6a799e6d9</td>\n",
       "      <td>0.0</td>\n",
       "      <td>0.0</td>\n",
       "      <td>[web, email, mobile]</td>\n",
       "      <td>5</td>\n",
       "      <td>7</td>\n",
       "      <td>bogo</td>\n",
       "      <td>5</td>\n",
       "    </tr>\n",
       "    <tr>\n",
       "      <th>3</th>\n",
       "      <td>offer received</td>\n",
       "      <td>c0d210398dee4a0895b24444a5fcd1d2</td>\n",
       "      <td>0</td>\n",
       "      <td>9b98b8c7a33c4b65b9aebfe6a799e6d9</td>\n",
       "      <td>0.0</td>\n",
       "      <td>0.0</td>\n",
       "      <td>[web, email, mobile]</td>\n",
       "      <td>5</td>\n",
       "      <td>7</td>\n",
       "      <td>bogo</td>\n",
       "      <td>5</td>\n",
       "    </tr>\n",
       "    <tr>\n",
       "      <th>4</th>\n",
       "      <td>offer received</td>\n",
       "      <td>57dd18ec5ddc46828afb81ec5977bef2</td>\n",
       "      <td>0</td>\n",
       "      <td>9b98b8c7a33c4b65b9aebfe6a799e6d9</td>\n",
       "      <td>0.0</td>\n",
       "      <td>0.0</td>\n",
       "      <td>[web, email, mobile]</td>\n",
       "      <td>5</td>\n",
       "      <td>7</td>\n",
       "      <td>bogo</td>\n",
       "      <td>5</td>\n",
       "    </tr>\n",
       "  </tbody>\n",
       "</table>\n",
       "</div>"
      ],
      "text/plain": [
       "            event                       customer_id  time  \\\n",
       "0  offer received  78afa995795e4d85b5d9ceeca43f5fef     0   \n",
       "1  offer received  ebe7ef46ea6f4963a7dd49f501b26779     0   \n",
       "2  offer received  f082d80f0aac47a99173ba8ef8fc1909     0   \n",
       "3  offer received  c0d210398dee4a0895b24444a5fcd1d2     0   \n",
       "4  offer received  57dd18ec5ddc46828afb81ec5977bef2     0   \n",
       "\n",
       "                           offer_id  customer_spending  customer_reward  \\\n",
       "0  9b98b8c7a33c4b65b9aebfe6a799e6d9                0.0              0.0   \n",
       "1  9b98b8c7a33c4b65b9aebfe6a799e6d9                0.0              0.0   \n",
       "2  9b98b8c7a33c4b65b9aebfe6a799e6d9                0.0              0.0   \n",
       "3  9b98b8c7a33c4b65b9aebfe6a799e6d9                0.0              0.0   \n",
       "4  9b98b8c7a33c4b65b9aebfe6a799e6d9                0.0              0.0   \n",
       "\n",
       "         offer_channels  offer_difficulty  duration offer_type  offer_reward  \n",
       "0  [web, email, mobile]                 5         7       bogo             5  \n",
       "1  [web, email, mobile]                 5         7       bogo             5  \n",
       "2  [web, email, mobile]                 5         7       bogo             5  \n",
       "3  [web, email, mobile]                 5         7       bogo             5  \n",
       "4  [web, email, mobile]                 5         7       bogo             5  "
      ]
     },
     "execution_count": 43,
     "metadata": {},
     "output_type": "execute_result"
    }
   ],
   "source": [
    "merged_df = pd.merge(transcript, cleaned_portfolio, on='offer_id')\n",
    "merged_df.head()"
   ]
  },
  {
   "cell_type": "code",
   "execution_count": 44,
   "metadata": {},
   "outputs": [],
   "source": [
    "Starbucks_data = pd.merge(merged_df,cleaned_profile,on = 'customer_id')"
   ]
  },
  {
   "cell_type": "code",
   "execution_count": 45,
   "metadata": {},
   "outputs": [
    {
     "data": {
      "text/html": [
       "<div>\n",
       "<style scoped>\n",
       "    .dataframe tbody tr th:only-of-type {\n",
       "        vertical-align: middle;\n",
       "    }\n",
       "\n",
       "    .dataframe tbody tr th {\n",
       "        vertical-align: top;\n",
       "    }\n",
       "\n",
       "    .dataframe thead th {\n",
       "        text-align: right;\n",
       "    }\n",
       "</style>\n",
       "<table border=\"1\" class=\"dataframe\">\n",
       "  <thead>\n",
       "    <tr style=\"text-align: right;\">\n",
       "      <th></th>\n",
       "      <th>event</th>\n",
       "      <th>customer_id</th>\n",
       "      <th>time</th>\n",
       "      <th>offer_id</th>\n",
       "      <th>customer_spending</th>\n",
       "      <th>customer_reward</th>\n",
       "      <th>offer_channels</th>\n",
       "      <th>offer_difficulty</th>\n",
       "      <th>duration</th>\n",
       "      <th>offer_type</th>\n",
       "      <th>offer_reward</th>\n",
       "      <th>became_member_on</th>\n",
       "      <th>gender</th>\n",
       "      <th>income</th>\n",
       "      <th>Age_Group</th>\n",
       "    </tr>\n",
       "  </thead>\n",
       "  <tbody>\n",
       "    <tr>\n",
       "      <th>0</th>\n",
       "      <td>offer received</td>\n",
       "      <td>78afa995795e4d85b5d9ceeca43f5fef</td>\n",
       "      <td>0</td>\n",
       "      <td>9b98b8c7a33c4b65b9aebfe6a799e6d9</td>\n",
       "      <td>0.0</td>\n",
       "      <td>0.0</td>\n",
       "      <td>[web, email, mobile]</td>\n",
       "      <td>5</td>\n",
       "      <td>7</td>\n",
       "      <td>bogo</td>\n",
       "      <td>5</td>\n",
       "      <td>2017-05-09</td>\n",
       "      <td>F</td>\n",
       "      <td>100000.0</td>\n",
       "      <td>(61,80)</td>\n",
       "    </tr>\n",
       "    <tr>\n",
       "      <th>1</th>\n",
       "      <td>offer viewed</td>\n",
       "      <td>78afa995795e4d85b5d9ceeca43f5fef</td>\n",
       "      <td>6</td>\n",
       "      <td>9b98b8c7a33c4b65b9aebfe6a799e6d9</td>\n",
       "      <td>0.0</td>\n",
       "      <td>0.0</td>\n",
       "      <td>[web, email, mobile]</td>\n",
       "      <td>5</td>\n",
       "      <td>7</td>\n",
       "      <td>bogo</td>\n",
       "      <td>5</td>\n",
       "      <td>2017-05-09</td>\n",
       "      <td>F</td>\n",
       "      <td>100000.0</td>\n",
       "      <td>(61,80)</td>\n",
       "    </tr>\n",
       "    <tr>\n",
       "      <th>2</th>\n",
       "      <td>offer completed</td>\n",
       "      <td>78afa995795e4d85b5d9ceeca43f5fef</td>\n",
       "      <td>132</td>\n",
       "      <td>9b98b8c7a33c4b65b9aebfe6a799e6d9</td>\n",
       "      <td>0.0</td>\n",
       "      <td>5.0</td>\n",
       "      <td>[web, email, mobile]</td>\n",
       "      <td>5</td>\n",
       "      <td>7</td>\n",
       "      <td>bogo</td>\n",
       "      <td>5</td>\n",
       "      <td>2017-05-09</td>\n",
       "      <td>F</td>\n",
       "      <td>100000.0</td>\n",
       "      <td>(61,80)</td>\n",
       "    </tr>\n",
       "    <tr>\n",
       "      <th>3</th>\n",
       "      <td>offer received</td>\n",
       "      <td>78afa995795e4d85b5d9ceeca43f5fef</td>\n",
       "      <td>504</td>\n",
       "      <td>f19421c1d4aa40978ebb69ca19b0e20d</td>\n",
       "      <td>0.0</td>\n",
       "      <td>0.0</td>\n",
       "      <td>[web, email, mobile, social]</td>\n",
       "      <td>5</td>\n",
       "      <td>5</td>\n",
       "      <td>bogo</td>\n",
       "      <td>5</td>\n",
       "      <td>2017-05-09</td>\n",
       "      <td>F</td>\n",
       "      <td>100000.0</td>\n",
       "      <td>(61,80)</td>\n",
       "    </tr>\n",
       "    <tr>\n",
       "      <th>4</th>\n",
       "      <td>offer completed</td>\n",
       "      <td>78afa995795e4d85b5d9ceeca43f5fef</td>\n",
       "      <td>510</td>\n",
       "      <td>f19421c1d4aa40978ebb69ca19b0e20d</td>\n",
       "      <td>0.0</td>\n",
       "      <td>5.0</td>\n",
       "      <td>[web, email, mobile, social]</td>\n",
       "      <td>5</td>\n",
       "      <td>5</td>\n",
       "      <td>bogo</td>\n",
       "      <td>5</td>\n",
       "      <td>2017-05-09</td>\n",
       "      <td>F</td>\n",
       "      <td>100000.0</td>\n",
       "      <td>(61,80)</td>\n",
       "    </tr>\n",
       "  </tbody>\n",
       "</table>\n",
       "</div>"
      ],
      "text/plain": [
       "             event                       customer_id  time  \\\n",
       "0   offer received  78afa995795e4d85b5d9ceeca43f5fef     0   \n",
       "1     offer viewed  78afa995795e4d85b5d9ceeca43f5fef     6   \n",
       "2  offer completed  78afa995795e4d85b5d9ceeca43f5fef   132   \n",
       "3   offer received  78afa995795e4d85b5d9ceeca43f5fef   504   \n",
       "4  offer completed  78afa995795e4d85b5d9ceeca43f5fef   510   \n",
       "\n",
       "                           offer_id  customer_spending  customer_reward  \\\n",
       "0  9b98b8c7a33c4b65b9aebfe6a799e6d9                0.0              0.0   \n",
       "1  9b98b8c7a33c4b65b9aebfe6a799e6d9                0.0              0.0   \n",
       "2  9b98b8c7a33c4b65b9aebfe6a799e6d9                0.0              5.0   \n",
       "3  f19421c1d4aa40978ebb69ca19b0e20d                0.0              0.0   \n",
       "4  f19421c1d4aa40978ebb69ca19b0e20d                0.0              5.0   \n",
       "\n",
       "                 offer_channels  offer_difficulty  duration offer_type  \\\n",
       "0          [web, email, mobile]                 5         7       bogo   \n",
       "1          [web, email, mobile]                 5         7       bogo   \n",
       "2          [web, email, mobile]                 5         7       bogo   \n",
       "3  [web, email, mobile, social]                 5         5       bogo   \n",
       "4  [web, email, mobile, social]                 5         5       bogo   \n",
       "\n",
       "   offer_reward became_member_on gender    income Age_Group  \n",
       "0             5       2017-05-09      F  100000.0   (61,80)  \n",
       "1             5       2017-05-09      F  100000.0   (61,80)  \n",
       "2             5       2017-05-09      F  100000.0   (61,80)  \n",
       "3             5       2017-05-09      F  100000.0   (61,80)  \n",
       "4             5       2017-05-09      F  100000.0   (61,80)  "
      ]
     },
     "execution_count": 45,
     "metadata": {},
     "output_type": "execute_result"
    }
   ],
   "source": [
    "Starbucks_data.head()"
   ]
  },
  {
   "cell_type": "markdown",
   "metadata": {},
   "source": [
    "With This The Data is ready to be Explored and model. "
   ]
  },
  {
   "cell_type": "markdown",
   "metadata": {},
   "source": [
    "Income average income offer completed\n",
    "ages\n",
    "offer distribuation\n",
    "males and females: ages income offer types "
   ]
  },
  {
   "cell_type": "markdown",
   "metadata": {},
   "source": [
    "[Source 1](https://towardsdatascience.com/data-visualization-with-pandas-1571bbc541c8)\n",
    "[Source 2](https://realpython.com/pandas-plot-python/)"
   ]
  },
  {
   "cell_type": "markdown",
   "metadata": {},
   "source": [
    "#### Income Distribution for starbucks customers"
   ]
  },
  {
   "cell_type": "code",
   "execution_count": 46,
   "metadata": {},
   "outputs": [
    {
     "data": {
      "text/plain": [
       "count    148805.000000\n",
       "mean      66414.119149\n",
       "std       21496.947967\n",
       "min       30000.000000\n",
       "25%       51000.000000\n",
       "50%       65000.000000\n",
       "75%       81000.000000\n",
       "max      120000.000000\n",
       "Name: income, dtype: float64"
      ]
     },
     "execution_count": 46,
     "metadata": {},
     "output_type": "execute_result"
    }
   ],
   "source": [
    "Starbucks_data.income.describe()"
   ]
  },
  {
   "cell_type": "code",
   "execution_count": 47,
   "metadata": {},
   "outputs": [
    {
     "data": {
      "text/plain": [
       "<matplotlib.axes._subplots.AxesSubplot at 0x7f94fad15390>"
      ]
     },
     "execution_count": 47,
     "metadata": {},
     "output_type": "execute_result"
    },
    {
     "data": {
      "image/png": "[encoded data removed]",
      "text/plain": [
       "<matplotlib.figure.Figure at 0x7f94fad10ba8>"
      ]
     },
     "metadata": {
      "needs_background": "light"
     },
     "output_type": "display_data"
    }
   ],
   "source": [
    "Starbucks_data['income'].plot(kind='hist',bins=50, figsize=(10,6), title='Distribution of income')"
   ]
  },
  {
   "cell_type": "markdown",
   "metadata": {},
   "source": [
    "##### Offer "
   ]
  },
  {
   "cell_type": "markdown",
   "metadata": {},
   "source": [
    "###### 1. Which offer were more common"
   ]
  },
  {
   "cell_type": "code",
   "execution_count": 48,
   "metadata": {},
   "outputs": [
    {
     "data": {
      "image/png": "[encoded data removed]",
      "text/plain": [
       "<matplotlib.figure.Figure at 0x7f94facc53c8>"
      ]
     },
     "metadata": {
      "needs_background": "light"
     },
     "output_type": "display_data"
    }
   ],
   "source": [
    "bar_plot(Starbucks_data,'offer_type','Offer Distribuations')"
   ]
  },
  {
   "cell_type": "code",
   "execution_count": 49,
   "metadata": {},
   "outputs": [
    {
     "data": {
      "text/html": [
       "<div>\n",
       "<style scoped>\n",
       "    .dataframe tbody tr th:only-of-type {\n",
       "        vertical-align: middle;\n",
       "    }\n",
       "\n",
       "    .dataframe tbody tr th {\n",
       "        vertical-align: top;\n",
       "    }\n",
       "\n",
       "    .dataframe thead th {\n",
       "        text-align: right;\n",
       "    }\n",
       "</style>\n",
       "<table border=\"1\" class=\"dataframe\">\n",
       "  <thead>\n",
       "    <tr style=\"text-align: right;\">\n",
       "      <th></th>\n",
       "      <th>event</th>\n",
       "      <th>customer_id</th>\n",
       "      <th>time</th>\n",
       "      <th>offer_id</th>\n",
       "      <th>customer_spending</th>\n",
       "      <th>customer_reward</th>\n",
       "      <th>offer_channels</th>\n",
       "      <th>offer_difficulty</th>\n",
       "      <th>duration</th>\n",
       "      <th>offer_type</th>\n",
       "      <th>offer_reward</th>\n",
       "      <th>became_member_on</th>\n",
       "      <th>gender</th>\n",
       "      <th>income</th>\n",
       "      <th>Age_Group</th>\n",
       "    </tr>\n",
       "  </thead>\n",
       "  <tbody>\n",
       "    <tr>\n",
       "      <th>0</th>\n",
       "      <td>offer received</td>\n",
       "      <td>78afa995795e4d85b5d9ceeca43f5fef</td>\n",
       "      <td>0</td>\n",
       "      <td>9b98b8c7a33c4b65b9aebfe6a799e6d9</td>\n",
       "      <td>0.0</td>\n",
       "      <td>0.0</td>\n",
       "      <td>[web, email, mobile]</td>\n",
       "      <td>5</td>\n",
       "      <td>7</td>\n",
       "      <td>bogo</td>\n",
       "      <td>5</td>\n",
       "      <td>2017-05-09</td>\n",
       "      <td>F</td>\n",
       "      <td>100000.0</td>\n",
       "      <td>(61,80)</td>\n",
       "    </tr>\n",
       "    <tr>\n",
       "      <th>1</th>\n",
       "      <td>offer viewed</td>\n",
       "      <td>78afa995795e4d85b5d9ceeca43f5fef</td>\n",
       "      <td>6</td>\n",
       "      <td>9b98b8c7a33c4b65b9aebfe6a799e6d9</td>\n",
       "      <td>0.0</td>\n",
       "      <td>0.0</td>\n",
       "      <td>[web, email, mobile]</td>\n",
       "      <td>5</td>\n",
       "      <td>7</td>\n",
       "      <td>bogo</td>\n",
       "      <td>5</td>\n",
       "      <td>2017-05-09</td>\n",
       "      <td>F</td>\n",
       "      <td>100000.0</td>\n",
       "      <td>(61,80)</td>\n",
       "    </tr>\n",
       "    <tr>\n",
       "      <th>2</th>\n",
       "      <td>offer completed</td>\n",
       "      <td>78afa995795e4d85b5d9ceeca43f5fef</td>\n",
       "      <td>132</td>\n",
       "      <td>9b98b8c7a33c4b65b9aebfe6a799e6d9</td>\n",
       "      <td>0.0</td>\n",
       "      <td>5.0</td>\n",
       "      <td>[web, email, mobile]</td>\n",
       "      <td>5</td>\n",
       "      <td>7</td>\n",
       "      <td>bogo</td>\n",
       "      <td>5</td>\n",
       "      <td>2017-05-09</td>\n",
       "      <td>F</td>\n",
       "      <td>100000.0</td>\n",
       "      <td>(61,80)</td>\n",
       "    </tr>\n",
       "    <tr>\n",
       "      <th>3</th>\n",
       "      <td>offer received</td>\n",
       "      <td>78afa995795e4d85b5d9ceeca43f5fef</td>\n",
       "      <td>504</td>\n",
       "      <td>f19421c1d4aa40978ebb69ca19b0e20d</td>\n",
       "      <td>0.0</td>\n",
       "      <td>0.0</td>\n",
       "      <td>[web, email, mobile, social]</td>\n",
       "      <td>5</td>\n",
       "      <td>5</td>\n",
       "      <td>bogo</td>\n",
       "      <td>5</td>\n",
       "      <td>2017-05-09</td>\n",
       "      <td>F</td>\n",
       "      <td>100000.0</td>\n",
       "      <td>(61,80)</td>\n",
       "    </tr>\n",
       "    <tr>\n",
       "      <th>4</th>\n",
       "      <td>offer completed</td>\n",
       "      <td>78afa995795e4d85b5d9ceeca43f5fef</td>\n",
       "      <td>510</td>\n",
       "      <td>f19421c1d4aa40978ebb69ca19b0e20d</td>\n",
       "      <td>0.0</td>\n",
       "      <td>5.0</td>\n",
       "      <td>[web, email, mobile, social]</td>\n",
       "      <td>5</td>\n",
       "      <td>5</td>\n",
       "      <td>bogo</td>\n",
       "      <td>5</td>\n",
       "      <td>2017-05-09</td>\n",
       "      <td>F</td>\n",
       "      <td>100000.0</td>\n",
       "      <td>(61,80)</td>\n",
       "    </tr>\n",
       "  </tbody>\n",
       "</table>\n",
       "</div>"
      ],
      "text/plain": [
       "             event                       customer_id  time  \\\n",
       "0   offer received  78afa995795e4d85b5d9ceeca43f5fef     0   \n",
       "1     offer viewed  78afa995795e4d85b5d9ceeca43f5fef     6   \n",
       "2  offer completed  78afa995795e4d85b5d9ceeca43f5fef   132   \n",
       "3   offer received  78afa995795e4d85b5d9ceeca43f5fef   504   \n",
       "4  offer completed  78afa995795e4d85b5d9ceeca43f5fef   510   \n",
       "\n",
       "                           offer_id  customer_spending  customer_reward  \\\n",
       "0  9b98b8c7a33c4b65b9aebfe6a799e6d9                0.0              0.0   \n",
       "1  9b98b8c7a33c4b65b9aebfe6a799e6d9                0.0              0.0   \n",
       "2  9b98b8c7a33c4b65b9aebfe6a799e6d9                0.0              5.0   \n",
       "3  f19421c1d4aa40978ebb69ca19b0e20d                0.0              0.0   \n",
       "4  f19421c1d4aa40978ebb69ca19b0e20d                0.0              5.0   \n",
       "\n",
       "                 offer_channels  offer_difficulty  duration offer_type  \\\n",
       "0          [web, email, mobile]                 5         7       bogo   \n",
       "1          [web, email, mobile]                 5         7       bogo   \n",
       "2          [web, email, mobile]                 5         7       bogo   \n",
       "3  [web, email, mobile, social]                 5         5       bogo   \n",
       "4  [web, email, mobile, social]                 5         5       bogo   \n",
       "\n",
       "   offer_reward became_member_on gender    income Age_Group  \n",
       "0             5       2017-05-09      F  100000.0   (61,80)  \n",
       "1             5       2017-05-09      F  100000.0   (61,80)  \n",
       "2             5       2017-05-09      F  100000.0   (61,80)  \n",
       "3             5       2017-05-09      F  100000.0   (61,80)  \n",
       "4             5       2017-05-09      F  100000.0   (61,80)  "
      ]
     },
     "execution_count": 49,
     "metadata": {},
     "output_type": "execute_result"
    }
   ],
   "source": [
    "Starbucks_data.head()"
   ]
  },
  {
   "cell_type": "markdown",
   "metadata": {},
   "source": [
    "##### Age groups"
   ]
  },
  {
   "cell_type": "code",
   "execution_count": 50,
   "metadata": {},
   "outputs": [
    {
     "data": {
      "text/plain": [
       "<matplotlib.axes._subplots.AxesSubplot at 0x7f94fac1b7f0>"
      ]
     },
     "execution_count": 50,
     "metadata": {},
     "output_type": "execute_result"
    },
    {
     "data": {
      "image/png": "[encoded data removed]",
      "text/plain": [
       "<matplotlib.figure.Figure at 0x7f94fad15f98>"
      ]
     },
     "metadata": {
      "needs_background": "light"
     },
     "output_type": "display_data"
    }
   ],
   "source": [
    "Starbucks_data.groupby('Age_Group').size().plot(kind = 'barh',title = 'Age group distribuation',color = '#102D75')"
   ]
  },
  {
   "cell_type": "markdown",
   "metadata": {},
   "source": [
    "##### Offer type and response"
   ]
  },
  {
   "cell_type": "code",
   "execution_count": 51,
   "metadata": {},
   "outputs": [
    {
     "data": {
      "text/plain": [
       "<matplotlib.legend.Legend at 0x7f94fac03208>"
      ]
     },
     "execution_count": 51,
     "metadata": {},
     "output_type": "execute_result"
    },
    {
     "data": {
      "image/png": "[encoded data removed]",
      "text/plain": [
       "<matplotlib.figure.Figure at 0x7f94facf2d30>"
      ]
     },
     "metadata": {
      "needs_background": "light"
     },
     "output_type": "display_data"
    }
   ],
   "source": [
    "\n",
    "plt.figure(figsize=(20,10))\n",
    "sns.countplot(x= \"event\", hue= \"offer_type\", palette=['Navy','Teal','Indigo'], data=Starbucks_data)\n",
    "sns.set(style=\"darkgrid\")\n",
    "plt.title('Offer response with offer type')\n",
    "plt.ylabel('Count')\n",
    "plt.xlabel('Offer response')\n",
    "plt.legend(title='offer type')"
   ]
  },
  {
   "cell_type": "markdown",
   "metadata": {},
   "source": [
    "##### Age and offer response"
   ]
  },
  {
   "cell_type": "code",
   "execution_count": 52,
   "metadata": {},
   "outputs": [
    {
     "data": {
      "text/plain": [
       "<matplotlib.legend.Legend at 0x7f94fabbd3c8>"
      ]
     },
     "execution_count": 52,
     "metadata": {},
     "output_type": "execute_result"
    },
    {
     "data": {
      "image/png": "[encoded data removed]",
      "text/plain": [
       "<matplotlib.figure.Figure at 0x7f94fac30160>"
      ]
     },
     "metadata": {},
     "output_type": "display_data"
    }
   ],
   "source": [
    "\n",
    "plt.figure(figsize=(15, 5))\n",
    "sns.countplot(x= \"Age_Group\", hue= \"event\", palette=['DeepPink','pink','purple'], data=Starbucks_data)\n",
    "sns.set(style=\"darkgrid\")\n",
    "plt.title('Offer response with age groups')\n",
    "plt.ylabel('Count')\n",
    "plt.xlabel('Age Group')\n",
    "plt.legend(title='Gender')"
   ]
  },
  {
   "cell_type": "code",
   "execution_count": 53,
   "metadata": {},
   "outputs": [
    {
     "data": {
      "text/plain": [
       "<matplotlib.legend.Legend at 0x7f94fab7c4a8>"
      ]
     },
     "execution_count": 53,
     "metadata": {},
     "output_type": "execute_result"
    },
    {
     "data": {
      "image/png": "[encoded data removed]",
      "text/plain": [
       "<matplotlib.figure.Figure at 0x7f94faba1e80>"
      ]
     },
     "metadata": {},
     "output_type": "display_data"
    }
   ],
   "source": [
    "\n",
    "plt.figure(figsize=(15, 5))\n",
    "sns.countplot(x= \"Age_Group\", hue= \"offer_type\", palette=['DeepPink','pink','purple'], data=Starbucks_data)\n",
    "sns.set(style=\"darkgrid\")\n",
    "plt.title('Offer Type with age groups')\n",
    "plt.ylabel('Count')\n",
    "plt.xlabel('Age Group')\n",
    "plt.legend(title='offer type')"
   ]
  },
  {
   "cell_type": "markdown",
   "metadata": {},
   "source": [
    "##### Gender and offer response"
   ]
  },
  {
   "cell_type": "code",
   "execution_count": 54,
   "metadata": {},
   "outputs": [
    {
     "data": {
      "text/plain": [
       "<matplotlib.legend.Legend at 0x7f94fab35e10>"
      ]
     },
     "execution_count": 54,
     "metadata": {},
     "output_type": "execute_result"
    },
    {
     "data": {
      "image/png": "[encoded data removed]",
      "text/plain": [
       "<matplotlib.figure.Figure at 0x7f94fab5f898>"
      ]
     },
     "metadata": {},
     "output_type": "display_data"
    }
   ],
   "source": [
    "\n",
    "plt.figure(figsize=(20,10))\n",
    "sns.countplot(x= \"gender\", hue= \"event\", palette=['MediumVioletRed','MediumOrchid','DarkCyan'], data=Starbucks_data)\n",
    "sns.set(style=\"darkgrid\")\n",
    "plt.title('Offer response with age groups')\n",
    "plt.ylabel('Count')\n",
    "plt.xlabel('Age Group')\n",
    "plt.legend(title='Gender')"
   ]
  },
  {
   "cell_type": "markdown",
   "metadata": {},
   "source": [
    "##### gender  and offer type"
   ]
  },
  {
   "cell_type": "code",
   "execution_count": 55,
   "metadata": {},
   "outputs": [
    {
     "data": {
      "text/plain": [
       "<matplotlib.legend.Legend at 0x7f94faaf3e80>"
      ]
     },
     "execution_count": 55,
     "metadata": {},
     "output_type": "execute_result"
    },
    {
     "data": {
      "image/png": "[encoded data removed]",
      "text/plain": [
       "<matplotlib.figure.Figure at 0x7f94fab20d30>"
      ]
     },
     "metadata": {},
     "output_type": "display_data"
    }
   ],
   "source": [
    "\n",
    "plt.figure(figsize=(20,10))\n",
    "sns.countplot(x= \"gender\", hue= \"offer_type\", palette=['Goldenrod','DarkGoldenrod','DimGray'], data=Starbucks_data)\n",
    "sns.set(style=\"darkgrid\")\n",
    "plt.title('Offer response with age groups')\n",
    "plt.ylabel('Count')\n",
    "plt.xlabel('Age Group')\n",
    "plt.legend(title='Gender')"
   ]
  },
  {
   "cell_type": "code",
   "execution_count": 56,
   "metadata": {
    "scrolled": true
   },
   "outputs": [
    {
     "data": {
      "text/plain": [
       "<matplotlib.legend.Legend at 0x7f94fab07ac8>"
      ]
     },
     "execution_count": 56,
     "metadata": {},
     "output_type": "execute_result"
    },
    {
     "data": {
      "image/png": "[encoded data removed]",
      "text/plain": [
       "<matplotlib.figure.Figure at 0x7f94fab3a668>"
      ]
     },
     "metadata": {},
     "output_type": "display_data"
    }
   ],
   "source": [
    "\n",
    "plt.figure(figsize=(20,10))\n",
    "sns.countplot(x= \"gender\", hue= \"event\", palette=['LavenderBlush','BurlyWood','RosyBrown'], data=Starbucks_data)\n",
    "sns.set(style=\"darkgrid\")\n",
    "plt.title('Offer response with age groups')\n",
    "plt.ylabel('Count')\n",
    "plt.xlabel('Age Group')\n",
    "plt.legend(title='Gender')"
   ]
  },
  {
   "cell_type": "code",
   "execution_count": 57,
   "metadata": {},
   "outputs": [
    {
     "data": {
      "text/plain": [
       "<matplotlib.legend.Legend at 0x7f94faa66fd0>"
      ]
     },
     "execution_count": 57,
     "metadata": {},
     "output_type": "execute_result"
    },
    {
     "data": {
      "image/png": "[encoded data removed]",
      "text/plain": [
       "<matplotlib.figure.Figure at 0x7f94fab0a978>"
      ]
     },
     "metadata": {},
     "output_type": "display_data"
    }
   ],
   "source": [
    "\n",
    "plt.figure(figsize=(20,10))\n",
    "sns.countplot(x= \"event\", hue= \"offer_type\", palette=['LavenderBlush','BurlyWood','RosyBrown'], data=Starbucks_data)\n",
    "sns.set(style=\"darkgrid\")\n",
    "plt.title('Offer response with age groups')\n",
    "plt.ylabel('Count')\n",
    "plt.xlabel('Age Group')\n",
    "plt.legend(title='Gender')"
   ]
  },
  {
   "cell_type": "code",
   "execution_count": 58,
   "metadata": {},
   "outputs": [
    {
     "data": {
      "text/plain": [
       "<matplotlib.legend.Legend at 0x7f94faa24438>"
      ]
     },
     "execution_count": 58,
     "metadata": {},
     "output_type": "execute_result"
    },
    {
     "data": {
      "image/png": "[encoded data removed]",
      "text/plain": [
       "<matplotlib.figure.Figure at 0x7f94faa66e80>"
      ]
     },
     "metadata": {},
     "output_type": "display_data"
    }
   ],
   "source": [
    "\n",
    "plt.figure(figsize=(20,10))\n",
    "sns.countplot(x= \"Age_Group\", hue= \"offer_type\", palette=['LavenderBlush','BurlyWood','RosyBrown'], data=Starbucks_data)\n",
    "sns.set(style=\"darkgrid\")\n",
    "plt.title('Offer response with age groups')\n",
    "plt.ylabel('Count')\n",
    "plt.xlabel('Age Group')\n",
    "plt.legend(title='Gender')"
   ]
  },
  {
   "cell_type": "markdown",
   "metadata": {},
   "source": [
    "### Modelling"
   ]
  },
  {
   "cell_type": "markdown",
   "metadata": {},
   "source": [
    "For this section I will try build a model that predicts customer response to an offer based on  offer type, age, gender, income."
   ]
  },
  {
   "cell_type": "markdown",
   "metadata": {},
   "source": [
    "To do it, I will need to\n",
    "1. Encode the a. offer_type b.gender c. age_groups \n",
    "2. drop offer id offer_channels difficuty durations ,became_member_on\n",
    "3. encode event "
   ]
  },
  {
   "cell_type": "code",
   "execution_count": 59,
   "metadata": {},
   "outputs": [
    {
     "data": {
      "text/html": [
       "<div>\n",
       "<style scoped>\n",
       "    .dataframe tbody tr th:only-of-type {\n",
       "        vertical-align: middle;\n",
       "    }\n",
       "\n",
       "    .dataframe tbody tr th {\n",
       "        vertical-align: top;\n",
       "    }\n",
       "\n",
       "    .dataframe thead th {\n",
       "        text-align: right;\n",
       "    }\n",
       "</style>\n",
       "<table border=\"1\" class=\"dataframe\">\n",
       "  <thead>\n",
       "    <tr style=\"text-align: right;\">\n",
       "      <th></th>\n",
       "      <th>event</th>\n",
       "      <th>customer_id</th>\n",
       "      <th>time</th>\n",
       "      <th>offer_id</th>\n",
       "      <th>customer_spending</th>\n",
       "      <th>customer_reward</th>\n",
       "      <th>offer_channels</th>\n",
       "      <th>offer_difficulty</th>\n",
       "      <th>duration</th>\n",
       "      <th>offer_type</th>\n",
       "      <th>offer_reward</th>\n",
       "      <th>became_member_on</th>\n",
       "      <th>gender</th>\n",
       "      <th>income</th>\n",
       "      <th>Age_Group</th>\n",
       "    </tr>\n",
       "  </thead>\n",
       "  <tbody>\n",
       "    <tr>\n",
       "      <th>0</th>\n",
       "      <td>offer received</td>\n",
       "      <td>78afa995795e4d85b5d9ceeca43f5fef</td>\n",
       "      <td>0</td>\n",
       "      <td>9b98b8c7a33c4b65b9aebfe6a799e6d9</td>\n",
       "      <td>0.0</td>\n",
       "      <td>0.0</td>\n",
       "      <td>[web, email, mobile]</td>\n",
       "      <td>5</td>\n",
       "      <td>7</td>\n",
       "      <td>bogo</td>\n",
       "      <td>5</td>\n",
       "      <td>2017-05-09</td>\n",
       "      <td>F</td>\n",
       "      <td>100000.0</td>\n",
       "      <td>(61,80)</td>\n",
       "    </tr>\n",
       "    <tr>\n",
       "      <th>1</th>\n",
       "      <td>offer viewed</td>\n",
       "      <td>78afa995795e4d85b5d9ceeca43f5fef</td>\n",
       "      <td>6</td>\n",
       "      <td>9b98b8c7a33c4b65b9aebfe6a799e6d9</td>\n",
       "      <td>0.0</td>\n",
       "      <td>0.0</td>\n",
       "      <td>[web, email, mobile]</td>\n",
       "      <td>5</td>\n",
       "      <td>7</td>\n",
       "      <td>bogo</td>\n",
       "      <td>5</td>\n",
       "      <td>2017-05-09</td>\n",
       "      <td>F</td>\n",
       "      <td>100000.0</td>\n",
       "      <td>(61,80)</td>\n",
       "    </tr>\n",
       "    <tr>\n",
       "      <th>2</th>\n",
       "      <td>offer completed</td>\n",
       "      <td>78afa995795e4d85b5d9ceeca43f5fef</td>\n",
       "      <td>132</td>\n",
       "      <td>9b98b8c7a33c4b65b9aebfe6a799e6d9</td>\n",
       "      <td>0.0</td>\n",
       "      <td>5.0</td>\n",
       "      <td>[web, email, mobile]</td>\n",
       "      <td>5</td>\n",
       "      <td>7</td>\n",
       "      <td>bogo</td>\n",
       "      <td>5</td>\n",
       "      <td>2017-05-09</td>\n",
       "      <td>F</td>\n",
       "      <td>100000.0</td>\n",
       "      <td>(61,80)</td>\n",
       "    </tr>\n",
       "    <tr>\n",
       "      <th>3</th>\n",
       "      <td>offer received</td>\n",
       "      <td>78afa995795e4d85b5d9ceeca43f5fef</td>\n",
       "      <td>504</td>\n",
       "      <td>f19421c1d4aa40978ebb69ca19b0e20d</td>\n",
       "      <td>0.0</td>\n",
       "      <td>0.0</td>\n",
       "      <td>[web, email, mobile, social]</td>\n",
       "      <td>5</td>\n",
       "      <td>5</td>\n",
       "      <td>bogo</td>\n",
       "      <td>5</td>\n",
       "      <td>2017-05-09</td>\n",
       "      <td>F</td>\n",
       "      <td>100000.0</td>\n",
       "      <td>(61,80)</td>\n",
       "    </tr>\n",
       "    <tr>\n",
       "      <th>4</th>\n",
       "      <td>offer completed</td>\n",
       "      <td>78afa995795e4d85b5d9ceeca43f5fef</td>\n",
       "      <td>510</td>\n",
       "      <td>f19421c1d4aa40978ebb69ca19b0e20d</td>\n",
       "      <td>0.0</td>\n",
       "      <td>5.0</td>\n",
       "      <td>[web, email, mobile, social]</td>\n",
       "      <td>5</td>\n",
       "      <td>5</td>\n",
       "      <td>bogo</td>\n",
       "      <td>5</td>\n",
       "      <td>2017-05-09</td>\n",
       "      <td>F</td>\n",
       "      <td>100000.0</td>\n",
       "      <td>(61,80)</td>\n",
       "    </tr>\n",
       "  </tbody>\n",
       "</table>\n",
       "</div>"
      ],
      "text/plain": [
       "             event                       customer_id  time  \\\n",
       "0   offer received  78afa995795e4d85b5d9ceeca43f5fef     0   \n",
       "1     offer viewed  78afa995795e4d85b5d9ceeca43f5fef     6   \n",
       "2  offer completed  78afa995795e4d85b5d9ceeca43f5fef   132   \n",
       "3   offer received  78afa995795e4d85b5d9ceeca43f5fef   504   \n",
       "4  offer completed  78afa995795e4d85b5d9ceeca43f5fef   510   \n",
       "\n",
       "                           offer_id  customer_spending  customer_reward  \\\n",
       "0  9b98b8c7a33c4b65b9aebfe6a799e6d9                0.0              0.0   \n",
       "1  9b98b8c7a33c4b65b9aebfe6a799e6d9                0.0              0.0   \n",
       "2  9b98b8c7a33c4b65b9aebfe6a799e6d9                0.0              5.0   \n",
       "3  f19421c1d4aa40978ebb69ca19b0e20d                0.0              0.0   \n",
       "4  f19421c1d4aa40978ebb69ca19b0e20d                0.0              5.0   \n",
       "\n",
       "                 offer_channels  offer_difficulty  duration offer_type  \\\n",
       "0          [web, email, mobile]                 5         7       bogo   \n",
       "1          [web, email, mobile]                 5         7       bogo   \n",
       "2          [web, email, mobile]                 5         7       bogo   \n",
       "3  [web, email, mobile, social]                 5         5       bogo   \n",
       "4  [web, email, mobile, social]                 5         5       bogo   \n",
       "\n",
       "   offer_reward became_member_on gender    income Age_Group  \n",
       "0             5       2017-05-09      F  100000.0   (61,80)  \n",
       "1             5       2017-05-09      F  100000.0   (61,80)  \n",
       "2             5       2017-05-09      F  100000.0   (61,80)  \n",
       "3             5       2017-05-09      F  100000.0   (61,80)  \n",
       "4             5       2017-05-09      F  100000.0   (61,80)  "
      ]
     },
     "execution_count": 59,
     "metadata": {},
     "output_type": "execute_result"
    }
   ],
   "source": [
    "#Check \n",
    "Starbucks_data.head()"
   ]
  },
  {
   "cell_type": "code",
   "execution_count": 60,
   "metadata": {
    "scrolled": true
   },
   "outputs": [],
   "source": [
    "# get dummy variables for offer types gender and age group and concat it\n",
    "dummys =pd.get_dummies(Starbucks_data[['offer_type','gender','Age_Group']])\n",
    "Starbucks_data = Starbucks_data.drop(['offer_type','gender','Age_Group','became_member_on'], 1)\n",
    "Starbucks_data = Starbucks_data.join(dummys)"
   ]
  },
  {
   "cell_type": "markdown",
   "metadata": {},
   "source": [
    "Note: add Programming notes"
   ]
  },
  {
   "cell_type": "markdown",
   "metadata": {},
   "source": [
    "Event can be encoded to \n",
    "1. offer received ----> 1\n",
    "2. offer viewed -----> 2\n",
    "3. offer completed ------>3"
   ]
  },
  {
   "cell_type": "code",
   "execution_count": 61,
   "metadata": {},
   "outputs": [],
   "source": [
    "# Map the offers\n",
    "Starbucks_data['event'] = Starbucks_data['event'].map({\"offer received\":1,\"offer viewed\":2,\"offer completed\":3})"
   ]
  },
  {
   "cell_type": "code",
   "execution_count": 62,
   "metadata": {},
   "outputs": [],
   "source": [
    "# Split the channels and drop it\n",
    "Starbucks_data = Starbucks_data.drop('offer_channels', 1).join(Starbucks_data.offer_channels.str.join('|').str.get_dummies())"
   ]
  },
  {
   "cell_type": "code",
   "execution_count": 63,
   "metadata": {},
   "outputs": [],
   "source": [
    "# Map offers to number\n",
    "Starbucks_data['offer_id'] = Starbucks_data['offer_id'].map({'9b98b8c7a33c4b65b9aebfe6a799e6d9':'1','f19421c1d4aa40978ebb69ca19b0e20d':'2','ae264e3637204a6fb9bb56bc8210ddfd':'3','5a8bc65990b245e5a138643cd4eb9837':'4','2906b810c7d4411798c6938adc9daaa5':'5','fafdcd668e3743c1bb461111dcafc2a4':'6','4d5c57ea9a6940dd891ad53e9dbe8da0':'7','2298d6c36e964ae4a3e7e9706d1fb8c2':'8','3f207df678b143eea3cee63160fa8bed':'9','0b1e1539f2cc45b7b9fa7c272da2e1d7':'10'})"
   ]
  },
  {
   "cell_type": "code",
   "execution_count": 64,
   "metadata": {},
   "outputs": [],
   "source": [
    "# Encode customer Id and drop it\n",
    "customer_id = pd.factorize(Starbucks_data['customer_id'])\n",
    "Starbucks_data = Starbucks_data.drop('customer_id',1)\n",
    "customer_id1 = pd.Series(customer_id[0])\n",
    "Starbucks_data['customer_ids'] = customer_id1"
   ]
  },
  {
   "cell_type": "code",
   "execution_count": 65,
   "metadata": {},
   "outputs": [],
   "source": [
    "scaler = MinMaxScaler() # default=(0, 1)\n",
    "numerical = ['income', 'offer_difficulty', 'duration', 'offer_reward', 'time', 'customer_reward', 'customer_spending']\n",
    "Starbucks_data[numerical] = scaler.fit_transform(Starbucks_data[numerical])\n",
    "    "
   ]
  },
  {
   "cell_type": "code",
   "execution_count": 66,
   "metadata": {},
   "outputs": [
    {
     "data": {
      "text/plain": [
       "Index(['event', 'time', 'offer_id', 'customer_spending', 'customer_reward',\n",
       "       'offer_difficulty', 'duration', 'offer_reward', 'income',\n",
       "       'offer_type_bogo', 'offer_type_discount', 'offer_type_informational',\n",
       "       'gender_F', 'gender_M', 'gender_O', 'Age_Group_(18, 24)',\n",
       "       'Age_Group_(25, 45)', 'Age_Group_(46, 60)', 'Age_Group_(61,80)',\n",
       "       'Age_Group_(80+)', 'email', 'mobile', 'social', 'web', 'customer_ids'],\n",
       "      dtype='object')"
      ]
     },
     "execution_count": 66,
     "metadata": {},
     "output_type": "execute_result"
    }
   ],
   "source": [
    "Starbucks_data.columns"
   ]
  },
  {
   "cell_type": "markdown",
   "metadata": {},
   "source": [
    "I will test a couple of models to see which would have better accuracy starting with k neighbors"
   ]
  },
  {
   "cell_type": "markdown",
   "metadata": {},
   "source": [
    "##### 2. Split the data into training and test set\n"
   ]
  },
  {
   "cell_type": "code",
   "execution_count": 90,
   "metadata": {},
   "outputs": [],
   "source": [
    "# In this cell I will import needed sklearn functions for easier tracking\n",
    "from sklearn.model_selection import train_test_split\n",
    "from sklearn.neighbors import KNeighborsClassifier\n",
    "from sklearn.metrics import classification_report,confusion_matrix, precision_score,fbeta_score,recall_score,accuracy_score,  f1_score,  make_scorer\n",
    "from sklearn.linear_model import LinearRegression\n",
    "from sklearn import tree\n",
    "from sklearn.tree import DecisionTreeClassifier \n",
    "from sklearn.ensemble import RandomForestClassifier\n",
    "from sklearn.metrics import recall_score\n",
    "from sklearn.model_selection import GridSearchCV\n",
    "from sklearn.metrics import precision_score\n",
    "\n",
    "\n",
    "from sklearn.metrics import confusion_matrix\n",
    "\n"
   ]
  },
  {
   "cell_type": "code",
   "execution_count": 68,
   "metadata": {},
   "outputs": [],
   "source": [
    "data = Starbucks_data.drop('event',1)\n",
    "labels = Starbucks_data['event']"
   ]
  },
  {
   "cell_type": "code",
   "execution_count": 69,
   "metadata": {},
   "outputs": [
    {
     "name": "stdout",
     "output_type": "stream",
     "text": [
      "Training set: 89283 rows\n",
      "Testing set: 59522 rows\n"
     ]
    }
   ],
   "source": [
    "X_train, X_test, y_train, y_test = train_test_split(data, labels, test_size=0.4, random_state=42)\n",
    "print(\"Training set: {} rows\".format(X_train.shape[0]))\n",
    "print(\"Testing set: {} rows\".format(X_test.shape[0]))"
   ]
  },
  {
   "cell_type": "markdown",
   "metadata": {},
   "source": [
    "##### 3. Fit and test the model"
   ]
  },
  {
   "cell_type": "markdown",
   "metadata": {},
   "source": [
    "###### 1. KNeighbors"
   ]
  },
  {
   "cell_type": "code",
   "execution_count": 70,
   "metadata": {},
   "outputs": [
    {
     "name": "stdout",
     "output_type": "stream",
     "text": [
      "             precision    recall  f1-score   support\n",
      "\n",
      "          1       0.40      0.62      0.49     26652\n",
      "          2       0.19      0.13      0.16     19931\n",
      "          3       0.25      0.08      0.12     12939\n",
      "\n",
      "avg / total       0.30      0.34      0.30     59522\n",
      "\n"
     ]
    }
   ],
   "source": [
    "neigh = KNeighborsClassifier(n_neighbors=6)\n",
    "neigh.fit(X_train, y_train)\n",
    "Kneigh_y_pred = neigh.predict(X_test)\n",
    "print(classification_report(y_test,Kneigh_y_pred))\n"
   ]
  },
  {
   "cell_type": "code",
   "execution_count": 73,
   "metadata": {},
   "outputs": [
    {
     "name": "stdout",
     "output_type": "stream",
     "text": [
      "[[16542  8196  1914]\n",
      " [16047  2636  1248]\n",
      " [ 8957  2942  1040]]\n"
     ]
    }
   ],
   "source": [
    "print(confusion_matrix(y_test, Kneigh_y_pred))"
   ]
  },
  {
   "cell_type": "markdown",
   "metadata": {},
   "source": [
    "###### 2. DecisionTree"
   ]
  },
  {
   "cell_type": "code",
   "execution_count": 71,
   "metadata": {},
   "outputs": [
    {
     "name": "stdout",
     "output_type": "stream",
     "text": [
      "             precision    recall  f1-score   support\n",
      "\n",
      "          1       0.84      0.84      0.84     26652\n",
      "          2       0.79      0.79      0.79     19931\n",
      "          3       1.00      1.00      1.00     12939\n",
      "\n",
      "avg / total       0.86      0.86      0.86     59522\n",
      "\n"
     ]
    }
   ],
   "source": [
    "trees =   DecisionTreeClassifier(random_state = 10)\n",
    "trees.fit(X_train, y_train)\n",
    "trees_y_pred = trees.predict(X_test)\n",
    "print(classification_report(y_test, trees_y_pred ))\n"
   ]
  },
  {
   "cell_type": "code",
   "execution_count": 74,
   "metadata": {},
   "outputs": [
    {
     "name": "stdout",
     "output_type": "stream",
     "text": [
      "[[22342  4310     0]\n",
      " [ 4141 15790     0]\n",
      " [    0     0 12939]]\n"
     ]
    }
   ],
   "source": [
    "confusion_matrix(y_test, trees_y_pred)"
   ]
  },
  {
   "cell_type": "code",
   "execution_count": 81,
   "metadata": {},
   "outputs": [
    {
     "data": {
      "text/plain": [
       "0.85801888377406677"
      ]
     },
     "execution_count": 81,
     "metadata": {},
     "output_type": "execute_result"
    }
   ],
   "source": [
    "recall = recall_score(y_test, trees_y_pred, average='micro')\n",
    "\n",
    "recall"
   ]
  },
  {
   "cell_type": "markdown",
   "metadata": {},
   "source": [
    "##### 3. Random Forests"
   ]
  },
  {
   "cell_type": "code",
   "execution_count": 72,
   "metadata": {
    "scrolled": true
   },
   "outputs": [
    {
     "name": "stdout",
     "output_type": "stream",
     "text": [
      "             precision    recall  f1-score   support\n",
      "\n",
      "          1       0.71      0.79      0.75     26652\n",
      "          2       0.67      0.57      0.62     19931\n",
      "          3       1.00      1.00      1.00     12939\n",
      "\n",
      "avg / total       0.76      0.76      0.76     59522\n",
      "\n"
     ]
    }
   ],
   "source": [
    "Forest =  RandomForestClassifier( random_state=10)\n",
    "Forest.fit(X_train, y_train)\n",
    "Forest_y_pred = Forest.predict(X_test)\n",
    "print(classification_report(y_test, Forest_y_pred ))"
   ]
  },
  {
   "cell_type": "markdown",
   "metadata": {},
   "source": [
    "##### Refinment"
   ]
  },
  {
   "cell_type": "code",
   "execution_count": 145,
   "metadata": {},
   "outputs": [
    {
     "data": {
      "text/plain": [
       "{'class_weight': None,\n",
       " 'criterion': 'gini',\n",
       " 'max_depth': None,\n",
       " 'max_features': None,\n",
       " 'max_leaf_nodes': None,\n",
       " 'min_impurity_decrease': 0.0,\n",
       " 'min_impurity_split': None,\n",
       " 'min_samples_leaf': 1,\n",
       " 'min_samples_split': 2,\n",
       " 'min_weight_fraction_leaf': 0.0,\n",
       " 'presort': False,\n",
       " 'random_state': None,\n",
       " 'splitter': 'best'}"
      ]
     },
     "execution_count": 145,
     "metadata": {},
     "output_type": "execute_result"
    }
   ],
   "source": [
    "DecisionTreeClassifier().get_params()"
   ]
  },
  {
   "cell_type": "code",
   "execution_count": 169,
   "metadata": {
    "collapsed": true
   },
   "outputs": [
    {
     "name": "stdout",
     "output_type": "stream",
     "text": [
      "Fitting 3 folds for each of 50 candidates, totalling 150 fits\n",
      "[CV] max_features=auto, min_samples_leaf=2, min_samples_split=2 ......\n",
      "[CV]  max_features=auto, min_samples_leaf=2, min_samples_split=2, recall_micro=0.7901686714602514, total=   1.0s\n",
      "[CV] max_features=auto, min_samples_leaf=2, min_samples_split=2 ......\n"
     ]
    },
    {
     "name": "stderr",
     "output_type": "stream",
     "text": [
      "[Parallel(n_jobs=1)]: Done   1 out of   1 | elapsed:    1.2s remaining:    0.0s\n"
     ]
    },
    {
     "name": "stdout",
     "output_type": "stream",
     "text": [
      "[CV]  max_features=auto, min_samples_leaf=2, min_samples_split=2, recall_micro=0.7803501226437284, total=   1.0s\n",
      "[CV] max_features=auto, min_samples_leaf=2, min_samples_split=2 ......\n"
     ]
    },
    {
     "name": "stderr",
     "output_type": "stream",
     "text": [
      "[Parallel(n_jobs=1)]: Done   2 out of   2 | elapsed:    2.4s remaining:    0.0s\n"
     ]
    },
    {
     "name": "stdout",
     "output_type": "stream",
     "text": [
      "[CV]  max_features=auto, min_samples_leaf=2, min_samples_split=2, recall_micro=0.7956317204301075, total=   1.2s\n",
      "[CV] max_features=auto, min_samples_leaf=2, min_samples_split=4 ......\n"
     ]
    },
    {
     "name": "stderr",
     "output_type": "stream",
     "text": [
      "[Parallel(n_jobs=1)]: Done   3 out of   3 | elapsed:    3.8s remaining:    0.0s\n"
     ]
    },
    {
     "name": "stdout",
     "output_type": "stream",
     "text": [
      "[CV]  max_features=auto, min_samples_leaf=2, min_samples_split=4, recall_micro=0.7901686714602514, total=   1.0s\n",
      "[CV] max_features=auto, min_samples_leaf=2, min_samples_split=4 ......\n"
     ]
    },
    {
     "name": "stderr",
     "output_type": "stream",
     "text": [
      "[Parallel(n_jobs=1)]: Done   4 out of   4 | elapsed:    5.0s remaining:    0.0s\n"
     ]
    },
    {
     "name": "stdout",
     "output_type": "stream",
     "text": [
      "[CV]  max_features=auto, min_samples_leaf=2, min_samples_split=4, recall_micro=0.7803501226437284, total=   1.0s\n",
      "[CV] max_features=auto, min_samples_leaf=2, min_samples_split=4 ......\n"
     ]
    },
    {
     "name": "stderr",
     "output_type": "stream",
     "text": [
      "[Parallel(n_jobs=1)]: Done   5 out of   5 | elapsed:    6.2s remaining:    0.0s\n"
     ]
    },
    {
     "name": "stdout",
     "output_type": "stream",
     "text": [
      "[CV]  max_features=auto, min_samples_leaf=2, min_samples_split=4, recall_micro=0.7956317204301075, total=   1.0s\n",
      "[CV] max_features=auto, min_samples_leaf=2, min_samples_split=6 ......\n"
     ]
    },
    {
     "name": "stderr",
     "output_type": "stream",
     "text": [
      "[Parallel(n_jobs=1)]: Done   6 out of   6 | elapsed:    7.4s remaining:    0.0s\n"
     ]
    },
    {
     "name": "stdout",
     "output_type": "stream",
     "text": [
      "[CV]  max_features=auto, min_samples_leaf=2, min_samples_split=6, recall_micro=0.7883878771587931, total=   1.0s\n",
      "[CV] max_features=auto, min_samples_leaf=2, min_samples_split=6 ......\n"
     ]
    },
    {
     "name": "stderr",
     "output_type": "stream",
     "text": [
      "[Parallel(n_jobs=1)]: Done   7 out of   7 | elapsed:    8.6s remaining:    0.0s\n"
     ]
    },
    {
     "name": "stdout",
     "output_type": "stream",
     "text": [
      "[CV]  max_features=auto, min_samples_leaf=2, min_samples_split=6, recall_micro=0.7842142401128994, total=   0.9s\n",
      "[CV] max_features=auto, min_samples_leaf=2, min_samples_split=6 ......\n"
     ]
    },
    {
     "name": "stderr",
     "output_type": "stream",
     "text": [
      "[Parallel(n_jobs=1)]: Done   8 out of   8 | elapsed:    9.7s remaining:    0.0s\n"
     ]
    },
    {
     "name": "stdout",
     "output_type": "stream",
     "text": [
      "[CV]  max_features=auto, min_samples_leaf=2, min_samples_split=6, recall_micro=0.791364247311828, total=   1.0s\n",
      "[CV] max_features=auto, min_samples_leaf=2, min_samples_split=8 ......\n"
     ]
    },
    {
     "name": "stderr",
     "output_type": "stream",
     "text": [
      "[Parallel(n_jobs=1)]: Done   9 out of   9 | elapsed:   11.0s remaining:    0.0s\n"
     ]
    },
    {
     "name": "stdout",
     "output_type": "stream",
     "text": [
      "[CV]  max_features=auto, min_samples_leaf=2, min_samples_split=8, recall_micro=0.7936294603857268, total=   1.0s\n",
      "[CV] max_features=auto, min_samples_leaf=2, min_samples_split=8 ......\n",
      "[CV]  max_features=auto, min_samples_leaf=2, min_samples_split=8, recall_micro=0.8042068478881758, total=   1.0s\n",
      "[CV] max_features=auto, min_samples_leaf=2, min_samples_split=8 ......\n",
      "[CV]  max_features=auto, min_samples_leaf=2, min_samples_split=8, recall_micro=0.787869623655914, total=   1.0s\n",
      "[CV] max_features=auto, min_samples_leaf=2, min_samples_split=10 .....\n",
      "[CV]  max_features=auto, min_samples_leaf=2, min_samples_split=10, recall_micro=0.8015926349035684, total=   0.9s\n",
      "[CV] max_features=auto, min_samples_leaf=2, min_samples_split=10 .....\n",
      "[CV]  max_features=auto, min_samples_leaf=2, min_samples_split=10, recall_micro=0.802392392728739, total=   0.9s\n",
      "[CV] max_features=auto, min_samples_leaf=2, min_samples_split=10 .....\n",
      "[CV]  max_features=auto, min_samples_leaf=2, min_samples_split=10, recall_micro=0.7947244623655914, total=   1.0s\n",
      "[CV] max_features=auto, min_samples_leaf=4, min_samples_split=2 ......\n",
      "[CV]  max_features=auto, min_samples_leaf=4, min_samples_split=2, recall_micro=0.8050534238290438, total=   0.9s\n",
      "[CV] max_features=auto, min_samples_leaf=4, min_samples_split=2 ......\n",
      "[CV]  max_features=auto, min_samples_leaf=4, min_samples_split=2, recall_micro=0.782030173717281, total=   0.9s\n",
      "[CV] max_features=auto, min_samples_leaf=4, min_samples_split=2 ......\n",
      "[CV]  max_features=auto, min_samples_leaf=4, min_samples_split=2, recall_micro=0.801008064516129, total=   0.9s\n",
      "[CV] max_features=auto, min_samples_leaf=4, min_samples_split=4 ......\n",
      "[CV]  max_features=auto, min_samples_leaf=4, min_samples_split=4, recall_micro=0.8050534238290438, total=   0.9s\n",
      "[CV] max_features=auto, min_samples_leaf=4, min_samples_split=4 ......\n",
      "[CV]  max_features=auto, min_samples_leaf=4, min_samples_split=4, recall_micro=0.782030173717281, total=   0.9s\n",
      "[CV] max_features=auto, min_samples_leaf=4, min_samples_split=4 ......\n",
      "[CV]  max_features=auto, min_samples_leaf=4, min_samples_split=4, recall_micro=0.801008064516129, total=   0.9s\n",
      "[CV] max_features=auto, min_samples_leaf=4, min_samples_split=6 ......\n",
      "[CV]  max_features=auto, min_samples_leaf=4, min_samples_split=6, recall_micro=0.8050534238290438, total=   0.9s\n",
      "[CV] max_features=auto, min_samples_leaf=4, min_samples_split=6 ......\n",
      "[CV]  max_features=auto, min_samples_leaf=4, min_samples_split=6, recall_micro=0.782030173717281, total=   1.0s\n",
      "[CV] max_features=auto, min_samples_leaf=4, min_samples_split=6 ......\n",
      "[CV]  max_features=auto, min_samples_leaf=4, min_samples_split=6, recall_micro=0.801008064516129, total=   0.9s\n",
      "[CV] max_features=auto, min_samples_leaf=4, min_samples_split=8 ......\n",
      "[CV]  max_features=auto, min_samples_leaf=4, min_samples_split=8, recall_micro=0.8050534238290438, total=   0.9s\n",
      "[CV] max_features=auto, min_samples_leaf=4, min_samples_split=8 ......\n",
      "[CV]  max_features=auto, min_samples_leaf=4, min_samples_split=8, recall_micro=0.782030173717281, total=   1.0s\n",
      "[CV] max_features=auto, min_samples_leaf=4, min_samples_split=8 ......\n",
      "[CV]  max_features=auto, min_samples_leaf=4, min_samples_split=8, recall_micro=0.801008064516129, total=   0.9s\n",
      "[CV] max_features=auto, min_samples_leaf=4, min_samples_split=10 .....\n",
      "[CV]  max_features=auto, min_samples_leaf=4, min_samples_split=10, recall_micro=0.7989046435051408, total=   1.0s\n",
      "[CV] max_features=auto, min_samples_leaf=4, min_samples_split=10 .....\n",
      "[CV]  max_features=auto, min_samples_leaf=4, min_samples_split=10, recall_micro=0.7972178354221968, total=   0.9s\n",
      "[CV] max_features=auto, min_samples_leaf=4, min_samples_split=10 .....\n",
      "[CV]  max_features=auto, min_samples_leaf=4, min_samples_split=10, recall_micro=0.787768817204301, total=   0.9s\n",
      "[CV] max_features=auto, min_samples_leaf=6, min_samples_split=2 ......\n",
      "[CV]  max_features=auto, min_samples_leaf=6, min_samples_split=2, recall_micro=0.7967206504939184, total=   0.9s\n",
      "[CV] max_features=auto, min_samples_leaf=6, min_samples_split=2 ......\n",
      "[CV]  max_features=auto, min_samples_leaf=6, min_samples_split=2, recall_micro=0.8041732468667048, total=   0.9s\n",
      "[CV] max_features=auto, min_samples_leaf=6, min_samples_split=2 ......\n",
      "[CV]  max_features=auto, min_samples_leaf=6, min_samples_split=2, recall_micro=0.7986895161290323, total=   0.9s\n",
      "[CV] max_features=auto, min_samples_leaf=6, min_samples_split=4 ......\n",
      "[CV]  max_features=auto, min_samples_leaf=6, min_samples_split=4, recall_micro=0.7967206504939184, total=   0.9s\n",
      "[CV] max_features=auto, min_samples_leaf=6, min_samples_split=4 ......\n",
      "[CV]  max_features=auto, min_samples_leaf=6, min_samples_split=4, recall_micro=0.8041732468667048, total=   0.9s\n",
      "[CV] max_features=auto, min_samples_leaf=6, min_samples_split=4 ......\n",
      "[CV]  max_features=auto, min_samples_leaf=6, min_samples_split=4, recall_micro=0.7986895161290323, total=   0.9s\n",
      "[CV] max_features=auto, min_samples_leaf=6, min_samples_split=6 ......\n",
      "[CV]  max_features=auto, min_samples_leaf=6, min_samples_split=6, recall_micro=0.7967206504939184, total=   0.9s\n",
      "[CV] max_features=auto, min_samples_leaf=6, min_samples_split=6 ......\n",
      "[CV]  max_features=auto, min_samples_leaf=6, min_samples_split=6, recall_micro=0.8041732468667048, total=   0.9s\n",
      "[CV] max_features=auto, min_samples_leaf=6, min_samples_split=6 ......\n",
      "[CV]  max_features=auto, min_samples_leaf=6, min_samples_split=6, recall_micro=0.7986895161290323, total=   0.9s\n",
      "[CV] max_features=auto, min_samples_leaf=6, min_samples_split=8 ......\n",
      "[CV]  max_features=auto, min_samples_leaf=6, min_samples_split=8, recall_micro=0.7967206504939184, total=   0.9s\n",
      "[CV] max_features=auto, min_samples_leaf=6, min_samples_split=8 ......\n",
      "[CV]  max_features=auto, min_samples_leaf=6, min_samples_split=8, recall_micro=0.8041732468667048, total=   0.9s\n",
      "[CV] max_features=auto, min_samples_leaf=6, min_samples_split=8 ......\n",
      "[CV]  max_features=auto, min_samples_leaf=6, min_samples_split=8, recall_micro=0.7986895161290323, total=   0.9s\n",
      "[CV] max_features=auto, min_samples_leaf=6, min_samples_split=10 .....\n",
      "[CV]  max_features=auto, min_samples_leaf=6, min_samples_split=10, recall_micro=0.7967206504939184, total=   0.9s\n",
      "[CV] max_features=auto, min_samples_leaf=6, min_samples_split=10 .....\n",
      "[CV]  max_features=auto, min_samples_leaf=6, min_samples_split=10, recall_micro=0.8041732468667048, total=   0.9s\n",
      "[CV] max_features=auto, min_samples_leaf=6, min_samples_split=10 .....\n",
      "[CV]  max_features=auto, min_samples_leaf=6, min_samples_split=10, recall_micro=0.7986895161290323, total=   0.9s\n",
      "[CV] max_features=auto, min_samples_leaf=8, min_samples_split=2 ......\n",
      "[CV]  max_features=auto, min_samples_leaf=8, min_samples_split=2, recall_micro=0.7862038841475707, total=   0.8s\n",
      "[CV] max_features=auto, min_samples_leaf=8, min_samples_split=2 ......\n",
      "[CV]  max_features=auto, min_samples_leaf=8, min_samples_split=2, recall_micro=0.7930513087597862, total=   0.8s\n",
      "[CV] max_features=auto, min_samples_leaf=8, min_samples_split=2 ......\n",
      "[CV]  max_features=auto, min_samples_leaf=8, min_samples_split=2, recall_micro=0.800739247311828, total=   0.8s\n",
      "[CV] max_features=auto, min_samples_leaf=8, min_samples_split=4 ......\n",
      "[CV]  max_features=auto, min_samples_leaf=8, min_samples_split=4, recall_micro=0.7862038841475707, total=   0.8s\n",
      "[CV] max_features=auto, min_samples_leaf=8, min_samples_split=4 ......\n",
      "[CV]  max_features=auto, min_samples_leaf=8, min_samples_split=4, recall_micro=0.7930513087597862, total=   0.8s\n",
      "[CV] max_features=auto, min_samples_leaf=8, min_samples_split=4 ......\n",
      "[CV]  max_features=auto, min_samples_leaf=8, min_samples_split=4, recall_micro=0.800739247311828, total=   0.8s\n",
      "[CV] max_features=auto, min_samples_leaf=8, min_samples_split=6 ......\n",
      "[CV]  max_features=auto, min_samples_leaf=8, min_samples_split=6, recall_micro=0.7862038841475707, total=   0.9s\n",
      "[CV] max_features=auto, min_samples_leaf=8, min_samples_split=6 ......\n",
      "[CV]  max_features=auto, min_samples_leaf=8, min_samples_split=6, recall_micro=0.7930513087597862, total=   0.8s\n",
      "[CV] max_features=auto, min_samples_leaf=8, min_samples_split=6 ......\n",
      "[CV]  max_features=auto, min_samples_leaf=8, min_samples_split=6, recall_micro=0.800739247311828, total=   0.9s\n",
      "[CV] max_features=auto, min_samples_leaf=8, min_samples_split=8 ......\n"
     ]
    },
    {
     "name": "stdout",
     "output_type": "stream",
     "text": [
      "[CV]  max_features=auto, min_samples_leaf=8, min_samples_split=8, recall_micro=0.7862038841475707, total=   0.8s\n",
      "[CV] max_features=auto, min_samples_leaf=8, min_samples_split=8 ......\n",
      "[CV]  max_features=auto, min_samples_leaf=8, min_samples_split=8, recall_micro=0.7930513087597862, total=   0.8s\n",
      "[CV] max_features=auto, min_samples_leaf=8, min_samples_split=8 ......\n",
      "[CV]  max_features=auto, min_samples_leaf=8, min_samples_split=8, recall_micro=0.800739247311828, total=   0.9s\n",
      "[CV] max_features=auto, min_samples_leaf=8, min_samples_split=10 .....\n",
      "[CV]  max_features=auto, min_samples_leaf=8, min_samples_split=10, recall_micro=0.7862038841475707, total=   0.9s\n",
      "[CV] max_features=auto, min_samples_leaf=8, min_samples_split=10 .....\n",
      "[CV]  max_features=auto, min_samples_leaf=8, min_samples_split=10, recall_micro=0.7930513087597862, total=   0.9s\n",
      "[CV] max_features=auto, min_samples_leaf=8, min_samples_split=10 .....\n",
      "[CV]  max_features=auto, min_samples_leaf=8, min_samples_split=10, recall_micro=0.800739247311828, total=   0.8s\n",
      "[CV] max_features=auto, min_samples_leaf=10, min_samples_split=2 .....\n",
      "[CV]  max_features=auto, min_samples_leaf=10, min_samples_split=2, recall_micro=0.7999126402795511, total=   0.8s\n",
      "[CV] max_features=auto, min_samples_leaf=10, min_samples_split=2 .....\n",
      "[CV]  max_features=auto, min_samples_leaf=10, min_samples_split=2, recall_micro=0.7955713853701153, total=   0.9s\n",
      "[CV] max_features=auto, min_samples_leaf=10, min_samples_split=2 .....\n",
      "[CV]  max_features=auto, min_samples_leaf=10, min_samples_split=2, recall_micro=0.8163306451612903, total=   0.9s\n",
      "[CV] max_features=auto, min_samples_leaf=10, min_samples_split=4 .....\n",
      "[CV]  max_features=auto, min_samples_leaf=10, min_samples_split=4, recall_micro=0.7999126402795511, total=   0.9s\n",
      "[CV] max_features=auto, min_samples_leaf=10, min_samples_split=4 .....\n",
      "[CV]  max_features=auto, min_samples_leaf=10, min_samples_split=4, recall_micro=0.7955713853701153, total=   0.9s\n",
      "[CV] max_features=auto, min_samples_leaf=10, min_samples_split=4 .....\n",
      "[CV]  max_features=auto, min_samples_leaf=10, min_samples_split=4, recall_micro=0.8163306451612903, total=   0.9s\n",
      "[CV] max_features=auto, min_samples_leaf=10, min_samples_split=6 .....\n",
      "[CV]  max_features=auto, min_samples_leaf=10, min_samples_split=6, recall_micro=0.7999126402795511, total=   0.9s\n",
      "[CV] max_features=auto, min_samples_leaf=10, min_samples_split=6 .....\n",
      "[CV]  max_features=auto, min_samples_leaf=10, min_samples_split=6, recall_micro=0.7955713853701153, total=   0.8s\n",
      "[CV] max_features=auto, min_samples_leaf=10, min_samples_split=6 .....\n",
      "[CV]  max_features=auto, min_samples_leaf=10, min_samples_split=6, recall_micro=0.8163306451612903, total=   0.9s\n",
      "[CV] max_features=auto, min_samples_leaf=10, min_samples_split=8 .....\n",
      "[CV]  max_features=auto, min_samples_leaf=10, min_samples_split=8, recall_micro=0.7999126402795511, total=   0.9s\n",
      "[CV] max_features=auto, min_samples_leaf=10, min_samples_split=8 .....\n",
      "[CV]  max_features=auto, min_samples_leaf=10, min_samples_split=8, recall_micro=0.7955713853701153, total=   0.8s\n",
      "[CV] max_features=auto, min_samples_leaf=10, min_samples_split=8 .....\n",
      "[CV]  max_features=auto, min_samples_leaf=10, min_samples_split=8, recall_micro=0.8163306451612903, total=   0.9s\n",
      "[CV] max_features=auto, min_samples_leaf=10, min_samples_split=10 ....\n",
      "[CV]  max_features=auto, min_samples_leaf=10, min_samples_split=10, recall_micro=0.7999126402795511, total=   0.8s\n",
      "[CV] max_features=auto, min_samples_leaf=10, min_samples_split=10 ....\n",
      "[CV]  max_features=auto, min_samples_leaf=10, min_samples_split=10, recall_micro=0.7955713853701153, total=   0.7s\n",
      "[CV] max_features=auto, min_samples_leaf=10, min_samples_split=10 ....\n",
      "[CV]  max_features=auto, min_samples_leaf=10, min_samples_split=10, recall_micro=0.8163306451612903, total=   0.8s\n",
      "[CV] max_features=sqrt, min_samples_leaf=2, min_samples_split=2 ......\n",
      "[CV]  max_features=sqrt, min_samples_leaf=2, min_samples_split=2, recall_micro=0.7901686714602514, total=   0.9s\n",
      "[CV] max_features=sqrt, min_samples_leaf=2, min_samples_split=2 ......\n",
      "[CV]  max_features=sqrt, min_samples_leaf=2, min_samples_split=2, recall_micro=0.7803501226437284, total=   1.0s\n",
      "[CV] max_features=sqrt, min_samples_leaf=2, min_samples_split=2 ......\n",
      "[CV]  max_features=sqrt, min_samples_leaf=2, min_samples_split=2, recall_micro=0.7956317204301075, total=   1.2s\n",
      "[CV] max_features=sqrt, min_samples_leaf=2, min_samples_split=4 ......\n",
      "[CV]  max_features=sqrt, min_samples_leaf=2, min_samples_split=4, recall_micro=0.7901686714602514, total=   1.0s\n",
      "[CV] max_features=sqrt, min_samples_leaf=2, min_samples_split=4 ......\n",
      "[CV]  max_features=sqrt, min_samples_leaf=2, min_samples_split=4, recall_micro=0.7803501226437284, total=   0.9s\n",
      "[CV] max_features=sqrt, min_samples_leaf=2, min_samples_split=4 ......\n",
      "[CV]  max_features=sqrt, min_samples_leaf=2, min_samples_split=4, recall_micro=0.7956317204301075, total=   1.0s\n",
      "[CV] max_features=sqrt, min_samples_leaf=2, min_samples_split=6 ......\n",
      "[CV]  max_features=sqrt, min_samples_leaf=2, min_samples_split=6, recall_micro=0.7883878771587931, total=   1.0s\n",
      "[CV] max_features=sqrt, min_samples_leaf=2, min_samples_split=6 ......\n",
      "[CV]  max_features=sqrt, min_samples_leaf=2, min_samples_split=6, recall_micro=0.7842142401128994, total=   1.0s\n",
      "[CV] max_features=sqrt, min_samples_leaf=2, min_samples_split=6 ......\n",
      "[CV]  max_features=sqrt, min_samples_leaf=2, min_samples_split=6, recall_micro=0.791364247311828, total=   1.0s\n",
      "[CV] max_features=sqrt, min_samples_leaf=2, min_samples_split=8 ......\n",
      "[CV]  max_features=sqrt, min_samples_leaf=2, min_samples_split=8, recall_micro=0.7936294603857268, total=   1.0s\n",
      "[CV] max_features=sqrt, min_samples_leaf=2, min_samples_split=8 ......\n",
      "[CV]  max_features=sqrt, min_samples_leaf=2, min_samples_split=8, recall_micro=0.8042068478881758, total=   0.9s\n",
      "[CV] max_features=sqrt, min_samples_leaf=2, min_samples_split=8 ......\n",
      "[CV]  max_features=sqrt, min_samples_leaf=2, min_samples_split=8, recall_micro=0.787869623655914, total=   1.0s\n",
      "[CV] max_features=sqrt, min_samples_leaf=2, min_samples_split=10 .....\n",
      "[CV]  max_features=sqrt, min_samples_leaf=2, min_samples_split=10, recall_micro=0.8015926349035684, total=   1.0s\n",
      "[CV] max_features=sqrt, min_samples_leaf=2, min_samples_split=10 .....\n",
      "[CV]  max_features=sqrt, min_samples_leaf=2, min_samples_split=10, recall_micro=0.802392392728739, total=   0.9s\n",
      "[CV] max_features=sqrt, min_samples_leaf=2, min_samples_split=10 .....\n",
      "[CV]  max_features=sqrt, min_samples_leaf=2, min_samples_split=10, recall_micro=0.7947244623655914, total=   1.0s\n",
      "[CV] max_features=sqrt, min_samples_leaf=4, min_samples_split=2 ......\n",
      "[CV]  max_features=sqrt, min_samples_leaf=4, min_samples_split=2, recall_micro=0.8050534238290438, total=   0.9s\n",
      "[CV] max_features=sqrt, min_samples_leaf=4, min_samples_split=2 ......\n",
      "[CV]  max_features=sqrt, min_samples_leaf=4, min_samples_split=2, recall_micro=0.782030173717281, total=   1.0s\n",
      "[CV] max_features=sqrt, min_samples_leaf=4, min_samples_split=2 ......\n",
      "[CV]  max_features=sqrt, min_samples_leaf=4, min_samples_split=2, recall_micro=0.801008064516129, total=   0.9s\n",
      "[CV] max_features=sqrt, min_samples_leaf=4, min_samples_split=4 ......\n",
      "[CV]  max_features=sqrt, min_samples_leaf=4, min_samples_split=4, recall_micro=0.8050534238290438, total=   0.9s\n",
      "[CV] max_features=sqrt, min_samples_leaf=4, min_samples_split=4 ......\n",
      "[CV]  max_features=sqrt, min_samples_leaf=4, min_samples_split=4, recall_micro=0.782030173717281, total=   0.9s\n",
      "[CV] max_features=sqrt, min_samples_leaf=4, min_samples_split=4 ......\n",
      "[CV]  max_features=sqrt, min_samples_leaf=4, min_samples_split=4, recall_micro=0.801008064516129, total=   0.9s\n",
      "[CV] max_features=sqrt, min_samples_leaf=4, min_samples_split=6 ......\n",
      "[CV]  max_features=sqrt, min_samples_leaf=4, min_samples_split=6, recall_micro=0.8050534238290438, total=   0.9s\n",
      "[CV] max_features=sqrt, min_samples_leaf=4, min_samples_split=6 ......\n",
      "[CV]  max_features=sqrt, min_samples_leaf=4, min_samples_split=6, recall_micro=0.782030173717281, total=   1.0s\n",
      "[CV] max_features=sqrt, min_samples_leaf=4, min_samples_split=6 ......\n",
      "[CV]  max_features=sqrt, min_samples_leaf=4, min_samples_split=6, recall_micro=0.801008064516129, total=   0.9s\n",
      "[CV] max_features=sqrt, min_samples_leaf=4, min_samples_split=8 ......\n"
     ]
    },
    {
     "name": "stdout",
     "output_type": "stream",
     "text": [
      "[CV]  max_features=sqrt, min_samples_leaf=4, min_samples_split=8, recall_micro=0.8050534238290438, total=   1.0s\n",
      "[CV] max_features=sqrt, min_samples_leaf=4, min_samples_split=8 ......\n",
      "[CV]  max_features=sqrt, min_samples_leaf=4, min_samples_split=8, recall_micro=0.782030173717281, total=   1.0s\n",
      "[CV] max_features=sqrt, min_samples_leaf=4, min_samples_split=8 ......\n",
      "[CV]  max_features=sqrt, min_samples_leaf=4, min_samples_split=8, recall_micro=0.801008064516129, total=   0.9s\n",
      "[CV] max_features=sqrt, min_samples_leaf=4, min_samples_split=10 .....\n",
      "[CV]  max_features=sqrt, min_samples_leaf=4, min_samples_split=10, recall_micro=0.7989046435051408, total=   0.9s\n",
      "[CV] max_features=sqrt, min_samples_leaf=4, min_samples_split=10 .....\n",
      "[CV]  max_features=sqrt, min_samples_leaf=4, min_samples_split=10, recall_micro=0.7972178354221968, total=   0.9s\n",
      "[CV] max_features=sqrt, min_samples_leaf=4, min_samples_split=10 .....\n",
      "[CV]  max_features=sqrt, min_samples_leaf=4, min_samples_split=10, recall_micro=0.787768817204301, total=   0.9s\n",
      "[CV] max_features=sqrt, min_samples_leaf=6, min_samples_split=2 ......\n",
      "[CV]  max_features=sqrt, min_samples_leaf=6, min_samples_split=2, recall_micro=0.7967206504939184, total=   0.9s\n",
      "[CV] max_features=sqrt, min_samples_leaf=6, min_samples_split=2 ......\n",
      "[CV]  max_features=sqrt, min_samples_leaf=6, min_samples_split=2, recall_micro=0.8041732468667048, total=   0.8s\n",
      "[CV] max_features=sqrt, min_samples_leaf=6, min_samples_split=2 ......\n",
      "[CV]  max_features=sqrt, min_samples_leaf=6, min_samples_split=2, recall_micro=0.7986895161290323, total=   0.9s\n",
      "[CV] max_features=sqrt, min_samples_leaf=6, min_samples_split=4 ......\n",
      "[CV]  max_features=sqrt, min_samples_leaf=6, min_samples_split=4, recall_micro=0.7967206504939184, total=   0.9s\n",
      "[CV] max_features=sqrt, min_samples_leaf=6, min_samples_split=4 ......\n",
      "[CV]  max_features=sqrt, min_samples_leaf=6, min_samples_split=4, recall_micro=0.8041732468667048, total=   0.9s\n",
      "[CV] max_features=sqrt, min_samples_leaf=6, min_samples_split=4 ......\n",
      "[CV]  max_features=sqrt, min_samples_leaf=6, min_samples_split=4, recall_micro=0.7986895161290323, total=   0.9s\n",
      "[CV] max_features=sqrt, min_samples_leaf=6, min_samples_split=6 ......\n",
      "[CV]  max_features=sqrt, min_samples_leaf=6, min_samples_split=6, recall_micro=0.7967206504939184, total=   0.9s\n",
      "[CV] max_features=sqrt, min_samples_leaf=6, min_samples_split=6 ......\n",
      "[CV]  max_features=sqrt, min_samples_leaf=6, min_samples_split=6, recall_micro=0.8041732468667048, total=   1.2s\n",
      "[CV] max_features=sqrt, min_samples_leaf=6, min_samples_split=6 ......\n",
      "[CV]  max_features=sqrt, min_samples_leaf=6, min_samples_split=6, recall_micro=0.7986895161290323, total=   0.9s\n",
      "[CV] max_features=sqrt, min_samples_leaf=6, min_samples_split=8 ......\n",
      "[CV]  max_features=sqrt, min_samples_leaf=6, min_samples_split=8, recall_micro=0.7967206504939184, total=   0.9s\n",
      "[CV] max_features=sqrt, min_samples_leaf=6, min_samples_split=8 ......\n",
      "[CV]  max_features=sqrt, min_samples_leaf=6, min_samples_split=8, recall_micro=0.8041732468667048, total=   0.9s\n",
      "[CV] max_features=sqrt, min_samples_leaf=6, min_samples_split=8 ......\n",
      "[CV]  max_features=sqrt, min_samples_leaf=6, min_samples_split=8, recall_micro=0.7986895161290323, total=   0.9s\n",
      "[CV] max_features=sqrt, min_samples_leaf=6, min_samples_split=10 .....\n",
      "[CV]  max_features=sqrt, min_samples_leaf=6, min_samples_split=10, recall_micro=0.7967206504939184, total=   0.9s\n",
      "[CV] max_features=sqrt, min_samples_leaf=6, min_samples_split=10 .....\n",
      "[CV]  max_features=sqrt, min_samples_leaf=6, min_samples_split=10, recall_micro=0.8041732468667048, total=   0.9s\n",
      "[CV] max_features=sqrt, min_samples_leaf=6, min_samples_split=10 .....\n",
      "[CV]  max_features=sqrt, min_samples_leaf=6, min_samples_split=10, recall_micro=0.7986895161290323, total=   0.9s\n",
      "[CV] max_features=sqrt, min_samples_leaf=8, min_samples_split=2 ......\n",
      "[CV]  max_features=sqrt, min_samples_leaf=8, min_samples_split=2, recall_micro=0.7862038841475707, total=   0.8s\n",
      "[CV] max_features=sqrt, min_samples_leaf=8, min_samples_split=2 ......\n",
      "[CV]  max_features=sqrt, min_samples_leaf=8, min_samples_split=2, recall_micro=0.7930513087597862, total=   0.9s\n",
      "[CV] max_features=sqrt, min_samples_leaf=8, min_samples_split=2 ......\n",
      "[CV]  max_features=sqrt, min_samples_leaf=8, min_samples_split=2, recall_micro=0.800739247311828, total=   0.9s\n",
      "[CV] max_features=sqrt, min_samples_leaf=8, min_samples_split=4 ......\n",
      "[CV]  max_features=sqrt, min_samples_leaf=8, min_samples_split=4, recall_micro=0.7862038841475707, total=   0.9s\n",
      "[CV] max_features=sqrt, min_samples_leaf=8, min_samples_split=4 ......\n",
      "[CV]  max_features=sqrt, min_samples_leaf=8, min_samples_split=4, recall_micro=0.7930513087597862, total=   0.9s\n",
      "[CV] max_features=sqrt, min_samples_leaf=8, min_samples_split=4 ......\n",
      "[CV]  max_features=sqrt, min_samples_leaf=8, min_samples_split=4, recall_micro=0.800739247311828, total=   0.9s\n",
      "[CV] max_features=sqrt, min_samples_leaf=8, min_samples_split=6 ......\n",
      "[CV]  max_features=sqrt, min_samples_leaf=8, min_samples_split=6, recall_micro=0.7862038841475707, total=   0.9s\n",
      "[CV] max_features=sqrt, min_samples_leaf=8, min_samples_split=6 ......\n",
      "[CV]  max_features=sqrt, min_samples_leaf=8, min_samples_split=6, recall_micro=0.7930513087597862, total=   0.9s\n",
      "[CV] max_features=sqrt, min_samples_leaf=8, min_samples_split=6 ......\n",
      "[CV]  max_features=sqrt, min_samples_leaf=8, min_samples_split=6, recall_micro=0.800739247311828, total=   0.9s\n",
      "[CV] max_features=sqrt, min_samples_leaf=8, min_samples_split=8 ......\n",
      "[CV]  max_features=sqrt, min_samples_leaf=8, min_samples_split=8, recall_micro=0.7862038841475707, total=   0.8s\n",
      "[CV] max_features=sqrt, min_samples_leaf=8, min_samples_split=8 ......\n",
      "[CV]  max_features=sqrt, min_samples_leaf=8, min_samples_split=8, recall_micro=0.7930513087597862, total=   0.8s\n",
      "[CV] max_features=sqrt, min_samples_leaf=8, min_samples_split=8 ......\n",
      "[CV]  max_features=sqrt, min_samples_leaf=8, min_samples_split=8, recall_micro=0.800739247311828, total=   0.9s\n",
      "[CV] max_features=sqrt, min_samples_leaf=8, min_samples_split=10 .....\n",
      "[CV]  max_features=sqrt, min_samples_leaf=8, min_samples_split=10, recall_micro=0.7862038841475707, total=   0.9s\n",
      "[CV] max_features=sqrt, min_samples_leaf=8, min_samples_split=10 .....\n",
      "[CV]  max_features=sqrt, min_samples_leaf=8, min_samples_split=10, recall_micro=0.7930513087597862, total=   0.9s\n",
      "[CV] max_features=sqrt, min_samples_leaf=8, min_samples_split=10 .....\n",
      "[CV]  max_features=sqrt, min_samples_leaf=8, min_samples_split=10, recall_micro=0.800739247311828, total=   0.9s\n",
      "[CV] max_features=sqrt, min_samples_leaf=10, min_samples_split=2 .....\n",
      "[CV]  max_features=sqrt, min_samples_leaf=10, min_samples_split=2, recall_micro=0.7999126402795511, total=   0.8s\n",
      "[CV] max_features=sqrt, min_samples_leaf=10, min_samples_split=2 .....\n",
      "[CV]  max_features=sqrt, min_samples_leaf=10, min_samples_split=2, recall_micro=0.7955713853701153, total=   0.9s\n",
      "[CV] max_features=sqrt, min_samples_leaf=10, min_samples_split=2 .....\n",
      "[CV]  max_features=sqrt, min_samples_leaf=10, min_samples_split=2, recall_micro=0.8163306451612903, total=   0.9s\n",
      "[CV] max_features=sqrt, min_samples_leaf=10, min_samples_split=4 .....\n",
      "[CV]  max_features=sqrt, min_samples_leaf=10, min_samples_split=4, recall_micro=0.7999126402795511, total=   0.9s\n",
      "[CV] max_features=sqrt, min_samples_leaf=10, min_samples_split=4 .....\n",
      "[CV]  max_features=sqrt, min_samples_leaf=10, min_samples_split=4, recall_micro=0.7955713853701153, total=   0.8s\n",
      "[CV] max_features=sqrt, min_samples_leaf=10, min_samples_split=4 .....\n",
      "[CV]  max_features=sqrt, min_samples_leaf=10, min_samples_split=4, recall_micro=0.8163306451612903, total=   0.8s\n",
      "[CV] max_features=sqrt, min_samples_leaf=10, min_samples_split=6 .....\n",
      "[CV]  max_features=sqrt, min_samples_leaf=10, min_samples_split=6, recall_micro=0.7999126402795511, total=   0.8s\n",
      "[CV] max_features=sqrt, min_samples_leaf=10, min_samples_split=6 .....\n",
      "[CV]  max_features=sqrt, min_samples_leaf=10, min_samples_split=6, recall_micro=0.7955713853701153, total=   0.8s\n",
      "[CV] max_features=sqrt, min_samples_leaf=10, min_samples_split=6 .....\n",
      "[CV]  max_features=sqrt, min_samples_leaf=10, min_samples_split=6, recall_micro=0.8163306451612903, total=   0.9s\n",
      "[CV] max_features=sqrt, min_samples_leaf=10, min_samples_split=8 .....\n"
     ]
    },
    {
     "name": "stdout",
     "output_type": "stream",
     "text": [
      "[CV]  max_features=sqrt, min_samples_leaf=10, min_samples_split=8, recall_micro=0.7999126402795511, total=   0.8s\n",
      "[CV] max_features=sqrt, min_samples_leaf=10, min_samples_split=8 .....\n",
      "[CV]  max_features=sqrt, min_samples_leaf=10, min_samples_split=8, recall_micro=0.7955713853701153, total=   0.8s\n",
      "[CV] max_features=sqrt, min_samples_leaf=10, min_samples_split=8 .....\n",
      "[CV]  max_features=sqrt, min_samples_leaf=10, min_samples_split=8, recall_micro=0.8163306451612903, total=   0.8s\n",
      "[CV] max_features=sqrt, min_samples_leaf=10, min_samples_split=10 ....\n",
      "[CV]  max_features=sqrt, min_samples_leaf=10, min_samples_split=10, recall_micro=0.7999126402795511, total=   0.9s\n",
      "[CV] max_features=sqrt, min_samples_leaf=10, min_samples_split=10 ....\n",
      "[CV]  max_features=sqrt, min_samples_leaf=10, min_samples_split=10, recall_micro=0.7955713853701153, total=   0.8s\n",
      "[CV] max_features=sqrt, min_samples_leaf=10, min_samples_split=10 ....\n",
      "[CV]  max_features=sqrt, min_samples_leaf=10, min_samples_split=10, recall_micro=0.8163306451612903, total=   0.9s\n"
     ]
    },
    {
     "name": "stderr",
     "output_type": "stream",
     "text": [
      "[Parallel(n_jobs=1)]: Done 150 out of 150 | elapsed:  2.7min finished\n"
     ]
    }
   ],
   "source": [
    "# Refine the model further using grid serach\n",
    "# define parameters and scoring\n",
    "parameters = {'max_features':['auto', 'sqrt'], 'min_samples_leaf':[2,4,6,8,10], 'min_samples_split':[2,4,6,8,10]} \n",
    "scoring = ['recall_micro']\n",
    "# use grid serach\n",
    "grid_obj = GridSearchCV(Forest, parameters, cv=3, scoring=scoring, refit=False, verbose=10, \n",
    "                return_train_score=True\n",
    ")\n",
    "\n",
    "\n",
    "grid_fit = grid_obj.fit(X_train.values, y_train.values)\n",
    "# get the estimator\n",
    "best_forest = grid_fit.estimator\n",
    "y_pred_grid = best_forest.predict(X_test)"
   ]
  },
  {
   "cell_type": "code",
   "execution_count": 163,
   "metadata": {},
   "outputs": [],
   "source": [
    "best_forest = grid_fit.estimator\n",
    "y_pred_grid = best_forest.predict(X_test)"
   ]
  },
  {
   "cell_type": "code",
   "execution_count": 164,
   "metadata": {},
   "outputs": [
    {
     "data": {
      "text/plain": [
       "0.76297839454319416"
      ]
     },
     "execution_count": 164,
     "metadata": {},
     "output_type": "execute_result"
    }
   ],
   "source": [
    "recall = recall_score(y_test, y_pred_grid, average='micro')\n",
    "recall \n"
   ]
  },
  {
   "cell_type": "code",
   "execution_count": 170,
   "metadata": {},
   "outputs": [
    {
     "name": "stdout",
     "output_type": "stream",
     "text": [
      "The the recall of the  model is 0.7630\n",
      "The the precision of the  model is 0.7630\n",
      "The the recall of the imporved model is 0.7630\n",
      "The the precision of the imporved model is 0.7946\n"
     ]
    }
   ],
   "source": [
    "recall_old = recall_score(y_test, Forest_y_pred, average='micro')\n",
    "precision_old = precision_score(y_test, Forest_y_pred, average='micro')\n",
    "print(\"The the recall of the  model is {:.4f}\".format(recall_old) )\n",
    "print(\"The the precision of the  model is {:.4f}\".format(precision_old) )\n",
    "\n",
    "recall = recall_score(y_test, y_pred_grid, average='micro')\n",
    "precision = precision_score(y_test, y_pred_grid, average='macro')\n",
    "print(\"The the recall of the imporved model is {:.4f}\".format(recall) )\n",
    "print(\"The the precision of the imporved model is {:.4f}\".format(precision) )\n"
   ]
  },
  {
   "cell_type": "markdown",
   "metadata": {},
   "source": [
    "https://machinelearningmastery.com/tour-of-evaluation-metrics-for-imbalanced-classification/"
   ]
  },
  {
   "cell_type": "code",
   "execution_count": 190,
   "metadata": {},
   "outputs": [
    {
     "name": "stdout",
     "output_type": "stream",
     "text": [
      "Feature: 0, Score: 0.33212\n",
      "Feature: 1, Score: 0.00439\n",
      "Feature: 2, Score: 0.00000\n",
      "Feature: 3, Score: 0.38257\n",
      "Feature: 4, Score: 0.00359\n",
      "Feature: 5, Score: 0.00426\n",
      "Feature: 6, Score: 0.00502\n",
      "Feature: 7, Score: 0.09863\n",
      "Feature: 8, Score: 0.00057\n",
      "Feature: 9, Score: 0.00056\n",
      "Feature: 10, Score: 0.01036\n",
      "Feature: 11, Score: 0.00155\n",
      "Feature: 12, Score: 0.00149\n",
      "Feature: 13, Score: 0.00072\n",
      "Feature: 14, Score: 0.00115\n",
      "Feature: 15, Score: 0.00158\n",
      "Feature: 16, Score: 0.00177\n",
      "Feature: 17, Score: 0.00165\n",
      "Feature: 18, Score: 0.00128\n",
      "Feature: 19, Score: 0.00000\n",
      "Feature: 20, Score: 0.00021\n",
      "Feature: 21, Score: 0.00521\n",
      "Feature: 22, Score: 0.00112\n",
      "Feature: 23, Score: 0.14019\n"
     ]
    },
    {
     "data": {
      "image/png": "[encoded data removed]",
      "text/plain": [
       "<matplotlib.figure.Figure at 0x7f94fa632160>"
      ]
     },
     "metadata": {},
     "output_type": "display_data"
    }
   ],
   "source": [
    "importance = best_forest.feature_importances_\n",
    "np.argsort(importances)\n",
    "for i,v in enumerate(importance):\n",
    "\tprint('Feature: %0d, Score: %.5f' % (i,v))\n",
    "# plot feature importance\n",
    "plt.bar([x for x in range(len(importance))], importance)\n",
    "plt.show()"
   ]
  },
  {
   "cell_type": "code",
   "execution_count": 181,
   "metadata": {
    "scrolled": true
   },
   "outputs": [
    {
     "data": {
      "text/plain": [
       "array([ 2, 19, 20,  9,  8, 13, 22, 14, 18, 12, 11, 15, 17, 16,  4,  5,  1,\n",
       "        6, 21, 10,  7, 23,  0,  3])"
      ]
     },
     "execution_count": 181,
     "metadata": {},
     "output_type": "execute_result"
    }
   ],
   "source": [
    "x=np.argsort(importances)"
   ]
  },
  {
   "cell_type": "code",
   "execution_count": 188,
   "metadata": {},
   "outputs": [
    {
     "data": {
      "text/plain": [
       "array(['time', 'offer_id', 'customer_spending', 'customer_reward',\n",
       "       'offer_difficulty', 'duration', 'offer_reward', 'income',\n",
       "       'offer_type_bogo', 'offer_type_discount',\n",
       "       'offer_type_informational', 'gender_F', 'gender_M', 'gender_O',\n",
       "       'Age_Group_(18, 24)', 'Age_Group_(25, 45)', 'Age_Group_(46, 60)',\n",
       "       'Age_Group_(61,80)', 'Age_Group_(80+)', 'email', 'mobile', 'social',\n",
       "       'web', 'customer_ids'], dtype=object)"
      ]
     },
     "execution_count": 188,
     "metadata": {},
     "output_type": "execute_result"
    }
   ],
   "source": [
    "X_train.columns.values"
   ]
  },
  {
   "cell_type": "markdown",
   "metadata": {},
   "source": [
    "From the the above it seems that the most important features that indcates the customer response are customer_reward, time, customer_ids, income , offer_type "
   ]
  },
  {
   "cell_type": "code",
   "execution_count": null,
   "metadata": {},
   "outputs": [],
   "source": []
  }
 ],
 "metadata": {
  "kernelspec": {
   "display_name": "Python 3",
   "language": "python",
   "name": "python3"
  },
  "language_info": {
   "codemirror_mode": {
    "name": "ipython",
    "version": 3
   },
   "file_extension": ".py",
   "mimetype": "text/x-python",
   "name": "python",
   "nbconvert_exporter": "python",
   "pygments_lexer": "ipython3",
   "version": "3.6.3"
  }
 },
 "nbformat": 4,
 "nbformat_minor": 2
}
